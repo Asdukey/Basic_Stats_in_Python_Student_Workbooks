{
 "cells": [
  {
   "cell_type": "code",
   "execution_count": 1,
   "metadata": {},
   "outputs": [],
   "source": [
    "#Import Stuff\n",
    "import thinkplot\n",
    "import thinkstats2\n",
    "import pandas as pd\n",
    "import numpy as np\n",
    "import scipy\n",
    "import seaborn as sns\n",
    "import matplotlib.pyplot as plt\n",
    "import warnings\n",
    "warnings.filterwarnings(\"ignore\")"
   ]
  },
  {
   "cell_type": "markdown",
   "metadata": {},
   "source": [
    "# Probability Density Functions\n",
    "\n",
    "Probability density functions (PDFs) are another of our commonly used visualizations to show and explore data. \n",
    "\n",
    "Going forward, the PDF is probably the most generally useful of the assorted distribution graphs, especially with continuous data. All of them do the same thing, but as we've seen there are some scenarios where the histogram looks weird and isn't useful. The PDF will pretty much always give us a good idea of the distribution. \n",
    "\n",
    "## Discreet and Continuous\n",
    "\n",
    "The relationship between the discreet and continuous distributions is important because we sometimes need/want to transform our data between the two. \n",
    "\n",
    "One example from real life is your GPA - when you do assignments/exams, you end up with a raw percentage grade which is continuous. When this is converted to a letter scale (A, B, etc...), that letter scale is discreet - there's only a selection of possible values (b-,b,b+, etc...). This is binning. We take a continuous varaible and create a discreet variable from it - or more literally, we put the continuous values into a bin. \n",
    "\n",
    "The other example is when your GPA is caclulated - those discreet values are assigned numbers on a 1-4 scale, then averaged together creating a new continuous value - your GPA.\n",
    "\n",
    "One place where this is commonly used is lending and credit scores. Having a credit score of 752 vs 764 makes no difference, you're placed in a category of \"excellent\", \"very good\", etc...\n"
   ]
  },
  {
   "cell_type": "code",
   "execution_count": 2,
   "metadata": {},
   "outputs": [
    {
     "data": {
      "text/html": [
       "<div>\n",
       "<style scoped>\n",
       "    .dataframe tbody tr th:only-of-type {\n",
       "        vertical-align: middle;\n",
       "    }\n",
       "\n",
       "    .dataframe tbody tr th {\n",
       "        vertical-align: top;\n",
       "    }\n",
       "\n",
       "    .dataframe thead th {\n",
       "        text-align: right;\n",
       "    }\n",
       "</style>\n",
       "<table border=\"1\" class=\"dataframe\">\n",
       "  <thead>\n",
       "    <tr style=\"text-align: right;\">\n",
       "      <th></th>\n",
       "      <th>credit.policy</th>\n",
       "      <th>purpose</th>\n",
       "      <th>int.rate</th>\n",
       "      <th>installment</th>\n",
       "      <th>log.annual.inc</th>\n",
       "      <th>dti</th>\n",
       "      <th>fico</th>\n",
       "      <th>days.with.cr.line</th>\n",
       "      <th>revol.bal</th>\n",
       "      <th>revol.util</th>\n",
       "      <th>inq.last.6mths</th>\n",
       "      <th>delinq.2yrs</th>\n",
       "      <th>pub.rec</th>\n",
       "      <th>not.fully.paid</th>\n",
       "    </tr>\n",
       "  </thead>\n",
       "  <tbody>\n",
       "    <tr>\n",
       "      <th>0</th>\n",
       "      <td>1</td>\n",
       "      <td>debt_consolidation</td>\n",
       "      <td>0.1189</td>\n",
       "      <td>829.10</td>\n",
       "      <td>11.350407</td>\n",
       "      <td>19.48</td>\n",
       "      <td>737</td>\n",
       "      <td>5639.958333</td>\n",
       "      <td>28854</td>\n",
       "      <td>52.1</td>\n",
       "      <td>0</td>\n",
       "      <td>0</td>\n",
       "      <td>0</td>\n",
       "      <td>0</td>\n",
       "    </tr>\n",
       "    <tr>\n",
       "      <th>1</th>\n",
       "      <td>1</td>\n",
       "      <td>credit_card</td>\n",
       "      <td>0.1071</td>\n",
       "      <td>228.22</td>\n",
       "      <td>11.082143</td>\n",
       "      <td>14.29</td>\n",
       "      <td>707</td>\n",
       "      <td>2760.000000</td>\n",
       "      <td>33623</td>\n",
       "      <td>76.7</td>\n",
       "      <td>0</td>\n",
       "      <td>0</td>\n",
       "      <td>0</td>\n",
       "      <td>0</td>\n",
       "    </tr>\n",
       "    <tr>\n",
       "      <th>2</th>\n",
       "      <td>1</td>\n",
       "      <td>debt_consolidation</td>\n",
       "      <td>0.1357</td>\n",
       "      <td>366.86</td>\n",
       "      <td>10.373491</td>\n",
       "      <td>11.63</td>\n",
       "      <td>682</td>\n",
       "      <td>4710.000000</td>\n",
       "      <td>3511</td>\n",
       "      <td>25.6</td>\n",
       "      <td>1</td>\n",
       "      <td>0</td>\n",
       "      <td>0</td>\n",
       "      <td>0</td>\n",
       "    </tr>\n",
       "    <tr>\n",
       "      <th>3</th>\n",
       "      <td>1</td>\n",
       "      <td>debt_consolidation</td>\n",
       "      <td>0.1008</td>\n",
       "      <td>162.34</td>\n",
       "      <td>11.350407</td>\n",
       "      <td>8.10</td>\n",
       "      <td>712</td>\n",
       "      <td>2699.958333</td>\n",
       "      <td>33667</td>\n",
       "      <td>73.2</td>\n",
       "      <td>1</td>\n",
       "      <td>0</td>\n",
       "      <td>0</td>\n",
       "      <td>0</td>\n",
       "    </tr>\n",
       "    <tr>\n",
       "      <th>4</th>\n",
       "      <td>1</td>\n",
       "      <td>credit_card</td>\n",
       "      <td>0.1426</td>\n",
       "      <td>102.92</td>\n",
       "      <td>11.299732</td>\n",
       "      <td>14.97</td>\n",
       "      <td>667</td>\n",
       "      <td>4066.000000</td>\n",
       "      <td>4740</td>\n",
       "      <td>39.5</td>\n",
       "      <td>0</td>\n",
       "      <td>1</td>\n",
       "      <td>0</td>\n",
       "      <td>0</td>\n",
       "    </tr>\n",
       "  </tbody>\n",
       "</table>\n",
       "</div>"
      ],
      "text/plain": [
       "   credit.policy             purpose  int.rate  installment  log.annual.inc  \\\n",
       "0              1  debt_consolidation    0.1189       829.10       11.350407   \n",
       "1              1         credit_card    0.1071       228.22       11.082143   \n",
       "2              1  debt_consolidation    0.1357       366.86       10.373491   \n",
       "3              1  debt_consolidation    0.1008       162.34       11.350407   \n",
       "4              1         credit_card    0.1426       102.92       11.299732   \n",
       "\n",
       "     dti  fico  days.with.cr.line  revol.bal  revol.util  inq.last.6mths  \\\n",
       "0  19.48   737        5639.958333      28854        52.1               0   \n",
       "1  14.29   707        2760.000000      33623        76.7               0   \n",
       "2  11.63   682        4710.000000       3511        25.6               1   \n",
       "3   8.10   712        2699.958333      33667        73.2               1   \n",
       "4  14.97   667        4066.000000       4740        39.5               0   \n",
       "\n",
       "   delinq.2yrs  pub.rec  not.fully.paid  \n",
       "0            0        0               0  \n",
       "1            0        0               0  \n",
       "2            0        0               0  \n",
       "3            0        0               0  \n",
       "4            1        0               0  "
      ]
     },
     "execution_count": 2,
     "metadata": {},
     "output_type": "execute_result"
    }
   ],
   "source": [
    "#Load data\n",
    "df = pd.read_csv(\"data/loan_data.csv\")\n",
    "df.head()"
   ]
  },
  {
   "cell_type": "code",
   "execution_count": 20,
   "metadata": {},
   "outputs": [
    {
     "data": {
      "text/plain": [
       "count    9578.000000\n",
       "mean      710.846314\n",
       "std        37.970537\n",
       "min       612.000000\n",
       "25%       682.000000\n",
       "50%       707.000000\n",
       "75%       737.000000\n",
       "max       827.000000\n",
       "Name: fico, dtype: float64"
      ]
     },
     "execution_count": 20,
     "metadata": {},
     "output_type": "execute_result"
    }
   ],
   "source": [
    "df[\"fico\"].describe()"
   ]
  },
  {
   "cell_type": "markdown",
   "metadata": {},
   "source": [
    "#### Winning is Binning\n",
    "\n",
    "Below is an example of how binning works that you can walk through. The logic is fairly simple, we see what bucket our numerical value falls into, then give it a label for that group. Here we are giving credit scores their label as though someone was applying for credit. \n",
    "\n",
    "<b>Note:</b> I have commented out some of my troubleshooting print statements, try uncommenting and executing the loop, and take a look at what gets printed. If your loop was not delivering what you want, would this be useful in finding the issue?"
   ]
  },
  {
   "cell_type": "code",
   "execution_count": 3,
   "metadata": {},
   "outputs": [
    {
     "data": {
      "text/html": [
       "<div>\n",
       "<style scoped>\n",
       "    .dataframe tbody tr th:only-of-type {\n",
       "        vertical-align: middle;\n",
       "    }\n",
       "\n",
       "    .dataframe tbody tr th {\n",
       "        vertical-align: top;\n",
       "    }\n",
       "\n",
       "    .dataframe thead th {\n",
       "        text-align: right;\n",
       "    }\n",
       "</style>\n",
       "<table border=\"1\" class=\"dataframe\">\n",
       "  <thead>\n",
       "    <tr style=\"text-align: right;\">\n",
       "      <th></th>\n",
       "      <th>credit.policy</th>\n",
       "      <th>purpose</th>\n",
       "      <th>int.rate</th>\n",
       "      <th>installment</th>\n",
       "      <th>log.annual.inc</th>\n",
       "      <th>dti</th>\n",
       "      <th>fico</th>\n",
       "      <th>days.with.cr.line</th>\n",
       "      <th>revol.bal</th>\n",
       "      <th>revol.util</th>\n",
       "      <th>inq.last.6mths</th>\n",
       "      <th>delinq.2yrs</th>\n",
       "      <th>pub.rec</th>\n",
       "      <th>not.fully.paid</th>\n",
       "      <th>grade</th>\n",
       "    </tr>\n",
       "  </thead>\n",
       "  <tbody>\n",
       "    <tr>\n",
       "      <th>0</th>\n",
       "      <td>1</td>\n",
       "      <td>debt_consolidation</td>\n",
       "      <td>0.1189</td>\n",
       "      <td>829.10</td>\n",
       "      <td>11.350407</td>\n",
       "      <td>19.48</td>\n",
       "      <td>737</td>\n",
       "      <td>5639.958333</td>\n",
       "      <td>28854</td>\n",
       "      <td>52.1</td>\n",
       "      <td>0</td>\n",
       "      <td>0</td>\n",
       "      <td>0</td>\n",
       "      <td>0</td>\n",
       "      <td>good</td>\n",
       "    </tr>\n",
       "    <tr>\n",
       "      <th>1</th>\n",
       "      <td>1</td>\n",
       "      <td>credit_card</td>\n",
       "      <td>0.1071</td>\n",
       "      <td>228.22</td>\n",
       "      <td>11.082143</td>\n",
       "      <td>14.29</td>\n",
       "      <td>707</td>\n",
       "      <td>2760.000000</td>\n",
       "      <td>33623</td>\n",
       "      <td>76.7</td>\n",
       "      <td>0</td>\n",
       "      <td>0</td>\n",
       "      <td>0</td>\n",
       "      <td>0</td>\n",
       "      <td>good</td>\n",
       "    </tr>\n",
       "    <tr>\n",
       "      <th>2</th>\n",
       "      <td>1</td>\n",
       "      <td>debt_consolidation</td>\n",
       "      <td>0.1357</td>\n",
       "      <td>366.86</td>\n",
       "      <td>10.373491</td>\n",
       "      <td>11.63</td>\n",
       "      <td>682</td>\n",
       "      <td>4710.000000</td>\n",
       "      <td>3511</td>\n",
       "      <td>25.6</td>\n",
       "      <td>1</td>\n",
       "      <td>0</td>\n",
       "      <td>0</td>\n",
       "      <td>0</td>\n",
       "      <td>good</td>\n",
       "    </tr>\n",
       "    <tr>\n",
       "      <th>3</th>\n",
       "      <td>1</td>\n",
       "      <td>debt_consolidation</td>\n",
       "      <td>0.1008</td>\n",
       "      <td>162.34</td>\n",
       "      <td>11.350407</td>\n",
       "      <td>8.10</td>\n",
       "      <td>712</td>\n",
       "      <td>2699.958333</td>\n",
       "      <td>33667</td>\n",
       "      <td>73.2</td>\n",
       "      <td>1</td>\n",
       "      <td>0</td>\n",
       "      <td>0</td>\n",
       "      <td>0</td>\n",
       "      <td>good</td>\n",
       "    </tr>\n",
       "    <tr>\n",
       "      <th>4</th>\n",
       "      <td>1</td>\n",
       "      <td>credit_card</td>\n",
       "      <td>0.1426</td>\n",
       "      <td>102.92</td>\n",
       "      <td>11.299732</td>\n",
       "      <td>14.97</td>\n",
       "      <td>667</td>\n",
       "      <td>4066.000000</td>\n",
       "      <td>4740</td>\n",
       "      <td>39.5</td>\n",
       "      <td>0</td>\n",
       "      <td>1</td>\n",
       "      <td>0</td>\n",
       "      <td>0</td>\n",
       "      <td>fair</td>\n",
       "    </tr>\n",
       "    <tr>\n",
       "      <th>5</th>\n",
       "      <td>1</td>\n",
       "      <td>credit_card</td>\n",
       "      <td>0.0788</td>\n",
       "      <td>125.13</td>\n",
       "      <td>11.904968</td>\n",
       "      <td>16.98</td>\n",
       "      <td>727</td>\n",
       "      <td>6120.041667</td>\n",
       "      <td>50807</td>\n",
       "      <td>51.0</td>\n",
       "      <td>0</td>\n",
       "      <td>0</td>\n",
       "      <td>0</td>\n",
       "      <td>0</td>\n",
       "      <td>good</td>\n",
       "    </tr>\n",
       "    <tr>\n",
       "      <th>6</th>\n",
       "      <td>1</td>\n",
       "      <td>debt_consolidation</td>\n",
       "      <td>0.1496</td>\n",
       "      <td>194.02</td>\n",
       "      <td>10.714418</td>\n",
       "      <td>4.00</td>\n",
       "      <td>667</td>\n",
       "      <td>3180.041667</td>\n",
       "      <td>3839</td>\n",
       "      <td>76.8</td>\n",
       "      <td>0</td>\n",
       "      <td>0</td>\n",
       "      <td>1</td>\n",
       "      <td>1</td>\n",
       "      <td>fair</td>\n",
       "    </tr>\n",
       "    <tr>\n",
       "      <th>7</th>\n",
       "      <td>1</td>\n",
       "      <td>all_other</td>\n",
       "      <td>0.1114</td>\n",
       "      <td>131.22</td>\n",
       "      <td>11.002100</td>\n",
       "      <td>11.08</td>\n",
       "      <td>722</td>\n",
       "      <td>5116.000000</td>\n",
       "      <td>24220</td>\n",
       "      <td>68.6</td>\n",
       "      <td>0</td>\n",
       "      <td>0</td>\n",
       "      <td>0</td>\n",
       "      <td>1</td>\n",
       "      <td>good</td>\n",
       "    </tr>\n",
       "    <tr>\n",
       "      <th>8</th>\n",
       "      <td>1</td>\n",
       "      <td>home_improvement</td>\n",
       "      <td>0.1134</td>\n",
       "      <td>87.19</td>\n",
       "      <td>11.407565</td>\n",
       "      <td>17.25</td>\n",
       "      <td>682</td>\n",
       "      <td>3989.000000</td>\n",
       "      <td>69909</td>\n",
       "      <td>51.1</td>\n",
       "      <td>1</td>\n",
       "      <td>0</td>\n",
       "      <td>0</td>\n",
       "      <td>0</td>\n",
       "      <td>good</td>\n",
       "    </tr>\n",
       "    <tr>\n",
       "      <th>9</th>\n",
       "      <td>1</td>\n",
       "      <td>debt_consolidation</td>\n",
       "      <td>0.1221</td>\n",
       "      <td>84.12</td>\n",
       "      <td>10.203592</td>\n",
       "      <td>10.00</td>\n",
       "      <td>707</td>\n",
       "      <td>2730.041667</td>\n",
       "      <td>5630</td>\n",
       "      <td>23.0</td>\n",
       "      <td>1</td>\n",
       "      <td>0</td>\n",
       "      <td>0</td>\n",
       "      <td>0</td>\n",
       "      <td>good</td>\n",
       "    </tr>\n",
       "    <tr>\n",
       "      <th>10</th>\n",
       "      <td>1</td>\n",
       "      <td>debt_consolidation</td>\n",
       "      <td>0.1347</td>\n",
       "      <td>360.43</td>\n",
       "      <td>10.434116</td>\n",
       "      <td>22.09</td>\n",
       "      <td>677</td>\n",
       "      <td>6713.041667</td>\n",
       "      <td>13846</td>\n",
       "      <td>71.0</td>\n",
       "      <td>2</td>\n",
       "      <td>0</td>\n",
       "      <td>1</td>\n",
       "      <td>0</td>\n",
       "      <td>good</td>\n",
       "    </tr>\n",
       "    <tr>\n",
       "      <th>11</th>\n",
       "      <td>1</td>\n",
       "      <td>debt_consolidation</td>\n",
       "      <td>0.1324</td>\n",
       "      <td>253.58</td>\n",
       "      <td>11.835009</td>\n",
       "      <td>9.16</td>\n",
       "      <td>662</td>\n",
       "      <td>4298.000000</td>\n",
       "      <td>5122</td>\n",
       "      <td>18.2</td>\n",
       "      <td>2</td>\n",
       "      <td>1</td>\n",
       "      <td>0</td>\n",
       "      <td>0</td>\n",
       "      <td>fair</td>\n",
       "    </tr>\n",
       "    <tr>\n",
       "      <th>12</th>\n",
       "      <td>1</td>\n",
       "      <td>debt_consolidation</td>\n",
       "      <td>0.0859</td>\n",
       "      <td>316.11</td>\n",
       "      <td>10.933107</td>\n",
       "      <td>15.49</td>\n",
       "      <td>767</td>\n",
       "      <td>6519.958333</td>\n",
       "      <td>6068</td>\n",
       "      <td>16.7</td>\n",
       "      <td>0</td>\n",
       "      <td>0</td>\n",
       "      <td>0</td>\n",
       "      <td>0</td>\n",
       "      <td>very good</td>\n",
       "    </tr>\n",
       "    <tr>\n",
       "      <th>13</th>\n",
       "      <td>1</td>\n",
       "      <td>small_business</td>\n",
       "      <td>0.0714</td>\n",
       "      <td>92.82</td>\n",
       "      <td>11.512925</td>\n",
       "      <td>6.50</td>\n",
       "      <td>747</td>\n",
       "      <td>4384.000000</td>\n",
       "      <td>3021</td>\n",
       "      <td>4.8</td>\n",
       "      <td>0</td>\n",
       "      <td>1</td>\n",
       "      <td>0</td>\n",
       "      <td>0</td>\n",
       "      <td>very good</td>\n",
       "    </tr>\n",
       "    <tr>\n",
       "      <th>14</th>\n",
       "      <td>1</td>\n",
       "      <td>debt_consolidation</td>\n",
       "      <td>0.0863</td>\n",
       "      <td>209.54</td>\n",
       "      <td>9.487972</td>\n",
       "      <td>9.73</td>\n",
       "      <td>727</td>\n",
       "      <td>1559.958333</td>\n",
       "      <td>6282</td>\n",
       "      <td>44.6</td>\n",
       "      <td>0</td>\n",
       "      <td>0</td>\n",
       "      <td>0</td>\n",
       "      <td>0</td>\n",
       "      <td>good</td>\n",
       "    </tr>\n",
       "    <tr>\n",
       "      <th>15</th>\n",
       "      <td>1</td>\n",
       "      <td>major_purchase</td>\n",
       "      <td>0.1103</td>\n",
       "      <td>327.53</td>\n",
       "      <td>10.738915</td>\n",
       "      <td>13.04</td>\n",
       "      <td>702</td>\n",
       "      <td>8159.958333</td>\n",
       "      <td>5394</td>\n",
       "      <td>53.4</td>\n",
       "      <td>1</td>\n",
       "      <td>0</td>\n",
       "      <td>0</td>\n",
       "      <td>0</td>\n",
       "      <td>good</td>\n",
       "    </tr>\n",
       "    <tr>\n",
       "      <th>16</th>\n",
       "      <td>1</td>\n",
       "      <td>all_other</td>\n",
       "      <td>0.1317</td>\n",
       "      <td>77.69</td>\n",
       "      <td>10.522773</td>\n",
       "      <td>2.26</td>\n",
       "      <td>672</td>\n",
       "      <td>3895.958333</td>\n",
       "      <td>2211</td>\n",
       "      <td>88.4</td>\n",
       "      <td>0</td>\n",
       "      <td>0</td>\n",
       "      <td>0</td>\n",
       "      <td>0</td>\n",
       "      <td>good</td>\n",
       "    </tr>\n",
       "    <tr>\n",
       "      <th>17</th>\n",
       "      <td>1</td>\n",
       "      <td>credit_card</td>\n",
       "      <td>0.0894</td>\n",
       "      <td>476.58</td>\n",
       "      <td>11.608236</td>\n",
       "      <td>7.07</td>\n",
       "      <td>797</td>\n",
       "      <td>6510.958333</td>\n",
       "      <td>7586</td>\n",
       "      <td>52.7</td>\n",
       "      <td>1</td>\n",
       "      <td>0</td>\n",
       "      <td>0</td>\n",
       "      <td>0</td>\n",
       "      <td>very good</td>\n",
       "    </tr>\n",
       "    <tr>\n",
       "      <th>18</th>\n",
       "      <td>1</td>\n",
       "      <td>debt_consolidation</td>\n",
       "      <td>0.1039</td>\n",
       "      <td>584.12</td>\n",
       "      <td>10.491274</td>\n",
       "      <td>3.80</td>\n",
       "      <td>712</td>\n",
       "      <td>2760.000000</td>\n",
       "      <td>8311</td>\n",
       "      <td>59.8</td>\n",
       "      <td>0</td>\n",
       "      <td>0</td>\n",
       "      <td>0</td>\n",
       "      <td>0</td>\n",
       "      <td>good</td>\n",
       "    </tr>\n",
       "    <tr>\n",
       "      <th>19</th>\n",
       "      <td>1</td>\n",
       "      <td>major_purchase</td>\n",
       "      <td>0.1513</td>\n",
       "      <td>173.65</td>\n",
       "      <td>11.002100</td>\n",
       "      <td>2.74</td>\n",
       "      <td>667</td>\n",
       "      <td>1126.958333</td>\n",
       "      <td>591</td>\n",
       "      <td>84.4</td>\n",
       "      <td>3</td>\n",
       "      <td>0</td>\n",
       "      <td>0</td>\n",
       "      <td>0</td>\n",
       "      <td>fair</td>\n",
       "    </tr>\n",
       "    <tr>\n",
       "      <th>20</th>\n",
       "      <td>1</td>\n",
       "      <td>all_other</td>\n",
       "      <td>0.0800</td>\n",
       "      <td>188.02</td>\n",
       "      <td>11.225243</td>\n",
       "      <td>16.08</td>\n",
       "      <td>772</td>\n",
       "      <td>4888.958333</td>\n",
       "      <td>29797</td>\n",
       "      <td>23.2</td>\n",
       "      <td>1</td>\n",
       "      <td>0</td>\n",
       "      <td>0</td>\n",
       "      <td>0</td>\n",
       "      <td>very good</td>\n",
       "    </tr>\n",
       "    <tr>\n",
       "      <th>21</th>\n",
       "      <td>1</td>\n",
       "      <td>all_other</td>\n",
       "      <td>0.0863</td>\n",
       "      <td>474.42</td>\n",
       "      <td>10.819778</td>\n",
       "      <td>2.59</td>\n",
       "      <td>797</td>\n",
       "      <td>11951.000000</td>\n",
       "      <td>5656</td>\n",
       "      <td>27.6</td>\n",
       "      <td>0</td>\n",
       "      <td>0</td>\n",
       "      <td>0</td>\n",
       "      <td>0</td>\n",
       "      <td>very good</td>\n",
       "    </tr>\n",
       "    <tr>\n",
       "      <th>22</th>\n",
       "      <td>1</td>\n",
       "      <td>credit_card</td>\n",
       "      <td>0.1355</td>\n",
       "      <td>339.60</td>\n",
       "      <td>11.512925</td>\n",
       "      <td>7.94</td>\n",
       "      <td>662</td>\n",
       "      <td>1939.958333</td>\n",
       "      <td>21162</td>\n",
       "      <td>57.7</td>\n",
       "      <td>0</td>\n",
       "      <td>0</td>\n",
       "      <td>0</td>\n",
       "      <td>0</td>\n",
       "      <td>fair</td>\n",
       "    </tr>\n",
       "    <tr>\n",
       "      <th>23</th>\n",
       "      <td>1</td>\n",
       "      <td>credit_card</td>\n",
       "      <td>0.0788</td>\n",
       "      <td>484.85</td>\n",
       "      <td>11.736069</td>\n",
       "      <td>7.05</td>\n",
       "      <td>782</td>\n",
       "      <td>5640.041667</td>\n",
       "      <td>16931</td>\n",
       "      <td>34.6</td>\n",
       "      <td>1</td>\n",
       "      <td>0</td>\n",
       "      <td>0</td>\n",
       "      <td>0</td>\n",
       "      <td>very good</td>\n",
       "    </tr>\n",
       "    <tr>\n",
       "      <th>24</th>\n",
       "      <td>1</td>\n",
       "      <td>debt_consolidation</td>\n",
       "      <td>0.1229</td>\n",
       "      <td>320.19</td>\n",
       "      <td>11.264464</td>\n",
       "      <td>8.80</td>\n",
       "      <td>672</td>\n",
       "      <td>3760.958333</td>\n",
       "      <td>4822</td>\n",
       "      <td>58.1</td>\n",
       "      <td>0</td>\n",
       "      <td>0</td>\n",
       "      <td>1</td>\n",
       "      <td>0</td>\n",
       "      <td>good</td>\n",
       "    </tr>\n",
       "  </tbody>\n",
       "</table>\n",
       "</div>"
      ],
      "text/plain": [
       "    credit.policy             purpose  int.rate  installment  log.annual.inc  \\\n",
       "0               1  debt_consolidation    0.1189       829.10       11.350407   \n",
       "1               1         credit_card    0.1071       228.22       11.082143   \n",
       "2               1  debt_consolidation    0.1357       366.86       10.373491   \n",
       "3               1  debt_consolidation    0.1008       162.34       11.350407   \n",
       "4               1         credit_card    0.1426       102.92       11.299732   \n",
       "5               1         credit_card    0.0788       125.13       11.904968   \n",
       "6               1  debt_consolidation    0.1496       194.02       10.714418   \n",
       "7               1           all_other    0.1114       131.22       11.002100   \n",
       "8               1    home_improvement    0.1134        87.19       11.407565   \n",
       "9               1  debt_consolidation    0.1221        84.12       10.203592   \n",
       "10              1  debt_consolidation    0.1347       360.43       10.434116   \n",
       "11              1  debt_consolidation    0.1324       253.58       11.835009   \n",
       "12              1  debt_consolidation    0.0859       316.11       10.933107   \n",
       "13              1      small_business    0.0714        92.82       11.512925   \n",
       "14              1  debt_consolidation    0.0863       209.54        9.487972   \n",
       "15              1      major_purchase    0.1103       327.53       10.738915   \n",
       "16              1           all_other    0.1317        77.69       10.522773   \n",
       "17              1         credit_card    0.0894       476.58       11.608236   \n",
       "18              1  debt_consolidation    0.1039       584.12       10.491274   \n",
       "19              1      major_purchase    0.1513       173.65       11.002100   \n",
       "20              1           all_other    0.0800       188.02       11.225243   \n",
       "21              1           all_other    0.0863       474.42       10.819778   \n",
       "22              1         credit_card    0.1355       339.60       11.512925   \n",
       "23              1         credit_card    0.0788       484.85       11.736069   \n",
       "24              1  debt_consolidation    0.1229       320.19       11.264464   \n",
       "\n",
       "      dti  fico  days.with.cr.line  revol.bal  revol.util  inq.last.6mths  \\\n",
       "0   19.48   737        5639.958333      28854        52.1               0   \n",
       "1   14.29   707        2760.000000      33623        76.7               0   \n",
       "2   11.63   682        4710.000000       3511        25.6               1   \n",
       "3    8.10   712        2699.958333      33667        73.2               1   \n",
       "4   14.97   667        4066.000000       4740        39.5               0   \n",
       "5   16.98   727        6120.041667      50807        51.0               0   \n",
       "6    4.00   667        3180.041667       3839        76.8               0   \n",
       "7   11.08   722        5116.000000      24220        68.6               0   \n",
       "8   17.25   682        3989.000000      69909        51.1               1   \n",
       "9   10.00   707        2730.041667       5630        23.0               1   \n",
       "10  22.09   677        6713.041667      13846        71.0               2   \n",
       "11   9.16   662        4298.000000       5122        18.2               2   \n",
       "12  15.49   767        6519.958333       6068        16.7               0   \n",
       "13   6.50   747        4384.000000       3021         4.8               0   \n",
       "14   9.73   727        1559.958333       6282        44.6               0   \n",
       "15  13.04   702        8159.958333       5394        53.4               1   \n",
       "16   2.26   672        3895.958333       2211        88.4               0   \n",
       "17   7.07   797        6510.958333       7586        52.7               1   \n",
       "18   3.80   712        2760.000000       8311        59.8               0   \n",
       "19   2.74   667        1126.958333        591        84.4               3   \n",
       "20  16.08   772        4888.958333      29797        23.2               1   \n",
       "21   2.59   797       11951.000000       5656        27.6               0   \n",
       "22   7.94   662        1939.958333      21162        57.7               0   \n",
       "23   7.05   782        5640.041667      16931        34.6               1   \n",
       "24   8.80   672        3760.958333       4822        58.1               0   \n",
       "\n",
       "    delinq.2yrs  pub.rec  not.fully.paid      grade  \n",
       "0             0        0               0       good  \n",
       "1             0        0               0       good  \n",
       "2             0        0               0       good  \n",
       "3             0        0               0       good  \n",
       "4             1        0               0       fair  \n",
       "5             0        0               0       good  \n",
       "6             0        1               1       fair  \n",
       "7             0        0               1       good  \n",
       "8             0        0               0       good  \n",
       "9             0        0               0       good  \n",
       "10            0        1               0       good  \n",
       "11            1        0               0       fair  \n",
       "12            0        0               0  very good  \n",
       "13            1        0               0  very good  \n",
       "14            0        0               0       good  \n",
       "15            0        0               0       good  \n",
       "16            0        0               0       good  \n",
       "17            0        0               0  very good  \n",
       "18            0        0               0       good  \n",
       "19            0        0               0       fair  \n",
       "20            0        0               0  very good  \n",
       "21            0        0               0  very good  \n",
       "22            0        0               0       fair  \n",
       "23            0        0               0  very good  \n",
       "24            0        1               0       good  "
      ]
     },
     "execution_count": 3,
     "metadata": {},
     "output_type": "execute_result"
    }
   ],
   "source": [
    "#Create credit-score bucket. 给评分\n",
    "df[\"grade\"] = \" \"\n",
    "scoreCol = df.columns.get_loc(\"fico\")\n",
    "gradeCol = df.columns.get_loc(\"grade\")\n",
    "\n",
    "for i in range(len(df)) :\n",
    "    if df.iloc[i,scoreCol] < 580:\n",
    "        #print(\"Less than 580-\"+str(df.iloc[i,scoreCol]))\n",
    "        df.iloc[i,gradeCol] = \"subprime\"\n",
    "    elif df.iloc[i,scoreCol] < 670:\n",
    "        #print(\"580-670-\"+str(df.iloc[i,scoreCol]))\n",
    "        df.iloc[i,gradeCol] = \"fair\"\n",
    "    elif df.iloc[i,scoreCol] < 740:\n",
    "        #print(\"670-740-\"+str(df.iloc[i,scoreCol]))\n",
    "        df.iloc[i,gradeCol] = \"good\"\n",
    "    elif df.iloc[i,scoreCol] < 800:\n",
    "        #print(\"740-800-\"+str(df.iloc[i,scoreCol]))\n",
    "        df.iloc[i,gradeCol] = \"very good\"\n",
    "    else:\n",
    "        #print(\"800+-\"+str(df.iloc[i,scoreCol]))\n",
    "        df.iloc[i,gradeCol] = \"excellent\"\n",
    "#print(str(scoreCol)+ \" \"+ str(gradeCol))\n",
    "df.head(25)"
   ]
  },
  {
   "cell_type": "markdown",
   "metadata": {},
   "source": [
    "##### Manual Binning via a Loop - Details\n",
    "\n",
    "What we have above is an example of using a simple-ish loop, let's look at the parts in detail:\n",
    "<ul>\n",
    "<li> The \"for\" part says, \"do what's in this loop once for every index (the position in the dataframe - row 1, 2, 3, 4, etc). Each time the stuff is executed, make the variable 'i' be the row number\". \n",
    "<li> The series of if statements checks if the fico score value is less than a series of cutoffs. If the fico score meets any of the criteria, it gets that label, the current execution of the loop ends, and we progress to the next row. \n",
    "<li> The iloc part is not the general way we want to use a dataframe, it is grabbing data from the df based on the index values - the row and column numbers. The 'i' is the row number, it starts at 0 and increases with each execution of the loop. The scoreCol value is calculated above, it is just the column number of the \"fico\" column (6 for me). The whole statement effectively grabs the \"cell\" at that location, like an Excel cell or a battleship hit. \n",
    "<li> This repeats, with 'i' incrementing until we reach the end. \n",
    "</ul>"
   ]
  },
  {
   "cell_type": "markdown",
   "metadata": {},
   "source": [
    "#### Built in Binning\n",
    "\n",
    "In reality, we can use premade functions to do the work for us. Here we can define the cutoff limits and let the computer figure our the rest. "
   ]
  },
  {
   "cell_type": "code",
   "execution_count": 4,
   "metadata": {},
   "outputs": [
    {
     "name": "stdout",
     "output_type": "stream",
     "text": [
      "1 612 1341 60231.432107263354\n",
      "2 672 6007 67593.95498610557\n",
      "3 742 2085 74025.49061873481\n",
      "4 802 145 96581.13203052751\n"
     ]
    }
   ],
   "source": [
    "#In generic cases, we can automate this:\n",
    "bins = np.arange(580, 860, 60) #or\n",
    "bins = np.array([580, 670, 740, 800])\n",
    "indicies = np.digitize(df[\"fico\"], bins)\n",
    "groups = df.groupby(indicies)\n",
    "for i, group in groups:\n",
    "    print(i, group[\"fico\"].min(), len(group), np.exp(group[\"log.annual.inc\"]).mean())"
   ]
  },
  {
   "cell_type": "code",
   "execution_count": 5,
   "metadata": {},
   "outputs": [],
   "source": [
    "#Graph\n",
    "#hist2 = thinkstats2.Hist(round(df[\"fico\"], -1))\n",
    "hist2 = thinkstats2.Hist(df[\"fico\"])\n",
    "pmf2 = thinkstats2.Pmf(df[\"fico\"])\n",
    "cdf2 = thinkstats2.Cdf(df[\"fico\"])"
   ]
  },
  {
   "cell_type": "code",
   "execution_count": 6,
   "metadata": {},
   "outputs": [
    {
     "data": {
      "image/png": "[encoded data removed]",
      "text/plain": [
       "<Figure size 1152x720 with 6 Axes>"
      ]
     },
     "metadata": {
      "needs_background": "light"
     },
     "output_type": "display_data"
    }
   ],
   "source": [
    "#Create graphs\n",
    "thinkplot.PrePlot(6, rows =2, cols=3)\n",
    "thinkplot.Hist(hist2)\n",
    "thinkplot.SubPlot(2)\n",
    "thinkplot.Pmf(pmf2)\n",
    "thinkplot.SubPlot(3)\n",
    "thinkplot.Cdf(cdf2)\n",
    "thinkplot.SubPlot(4)\n",
    "thinkstats2.NormalProbabilityPlot(df[\"fico\"])\n",
    "thinkplot.SubPlot(5)\n",
    "thinkstats2.NormalProbabilityPlot(np.log(df[\"fico\"]))\n",
    "thinkplot.SubPlot(6)\n",
    "pdf = thinkstats2.EstimatedPdf(df[\"fico\"]) #See more below\n",
    "thinkplot.Pdf(pdf)\n",
    "thinkplot.Config()"
   ]
  },
  {
   "cell_type": "markdown",
   "metadata": {},
   "source": [
    "#### Multiple Plots on a Grid\n",
    "\n",
    "In the examples both above and below we have a grid of multiple graphs. Each one is done in a different way. \n",
    "\n",
    "In the thinkplot stuff we have a helper called PrePlot, which we can use to define the size of the grid, along with the subPlot function that can basically \"aim\" the next chart into the desired slot. \n",
    "\n",
    "In the seaborn stuff below, we have a grid using pyplot subplots. Here we define a set of sublots, then in each individual plot we assign it a slot. \n",
    "\n",
    "Both of these are built upon the foundations of pyplot (which is part of matplotlib), so there is often, but not always interoperability. The method below is farily generic and will work in many places, with many graphs. Note that (for reasons we really don't care about, it has to do with if the function only provides an \"image\" of a graph, or an entire \"object\" of a graph) there are some scenarios that making a grid like this won't work. The easiest way to confirm is to Google, \"seaborn [graphtype] subplots\" and there will be several examples (usually stackoverflow ones have good explained examples) that can normally be easily adapted. There are a bunch of ways to do this, and a bunch of semi-related garphing libraries and types of graphs, so there isn't a \"one true answer\". "
   ]
  },
  {
   "cell_type": "code",
   "execution_count": 7,
   "metadata": {},
   "outputs": [
    {
     "data": {
      "image/png": "[encoded data removed]",
      "text/plain": [
       "<Figure size 1440x360 with 2 Axes>"
      ]
     },
     "metadata": {
      "needs_background": "light"
     },
     "output_type": "display_data"
    }
   ],
   "source": [
    "#We can use seaborn as well\n",
    "\n",
    "plt.rcParams[\"figure.figsize\"] = (20,5) #makes the default size larger. \n",
    "#Everything after the comma is optional. \n",
    "fig, ax = plt.subplots(1,2)\n",
    "sns.distplot(df[\"fico\"], kde_kws={\"color\":\"red\", \"label\":\"KDE\"}, hist_kws={\"label\":\"Data\"}, ax=ax[1])\n",
    "sns.distplot(df[\"fico\"], bins=bins, kde_kws={\"color\":\"red\", \"label\":\"KDE\"}, hist_kws={\"label\":\"Data\"}, ax=ax[0])\n",
    "plt.show()"
   ]
  },
  {
   "cell_type": "markdown",
   "metadata": {},
   "source": [
    "### KDE and Histogram\n",
    "\n",
    "As above - the KDE produces a smoothed function, and approximates the distribution of the histogram. Especially when the volume of data becomes large, a KDE may be a more useful visualization of a distribution. \n",
    "\n",
    "The smaller those bins get, the closer of an approximation. The smoothing factor accounts for 'noise' - e.g. around 750ish. On the whole, this delivers a distribution shape that isn't impacted directly by sharp ups and downs at certain points on the distribution, like a histogram is. For generalizing from a sample to a population, this is useful...\n"
   ]
  },
  {
   "cell_type": "markdown",
   "metadata": {},
   "source": [
    "### Skewness\n",
    "\n",
    "![Skew](images/skew.png)\n",
    "\n",
    "Skewness. We can visually see the skew - this one is right skewed a bit - the right side is \"stretched\" out a bit more. Skew is both easy to see and easy to calculate, we also have a quick rule of thumb that we can figure out with basic satistics:\n",
    "<ul>\n",
    "<li>If the mean is greater than the median, the distribution is positively skewed.\n",
    "<li>If the mean is less than the median, the distribution is negatively skewed.\n",
    "</ul>\n",
    "\n",
    "The value of the skew can be calculated with a function called Pearson Median Skewness, which is defined as:\n",
    "\n",
    "$$ Skew = \\frac{3(X_i - \\mu)}{\\sigma} $$\n",
    "\n",
    "The values for skew don't have any specific meaning, the larger magnitude it is, the larger the skew. As a rule of thumb, values greater than 1 are highly skewed. \n",
    "\n",
    "We can verify with caclculations..."
   ]
  },
  {
   "cell_type": "code",
   "execution_count": 8,
   "metadata": {},
   "outputs": [
    {
     "name": "stdout",
     "output_type": "stream",
     "text": [
      "710.8463144706619\n",
      "707.0\n",
      "0.30390788935426843\n"
     ]
    }
   ],
   "source": [
    "#Skew\n",
    "skw = thinkstats2.PearsonMedianSkewness(df[\"fico\"])\n",
    "print(df[\"fico\"].mean())\n",
    "print(df[\"fico\"].median())\n",
    "print(skw)"
   ]
  },
  {
   "cell_type": "markdown",
   "metadata": {},
   "source": [
    "We can show it a little more clearly on the graph by adding some reference lines for mean and median. We can see that the mean is now greater than the median. "
   ]
  },
  {
   "cell_type": "code",
   "execution_count": 9,
   "metadata": {},
   "outputs": [
    {
     "data": {
      "image/png": "[encoded data removed]",
      "text/plain": [
       "<Figure size 1440x360 with 1 Axes>"
      ]
     },
     "metadata": {
      "needs_background": "light"
     },
     "output_type": "display_data"
    }
   ],
   "source": [
    "thinkplot.PrePlot(1)\n",
    "thinkplot.Pdf(pdf)\n",
    "thinkplot.axvline(df[\"fico\"].mean(), color=\"Red\", label=\"Mean\")\n",
    "thinkplot.axvline(df[\"fico\"].median(), color=\"Green\", label=\"Median\")\n",
    "thinkplot.Config()"
   ]
  },
  {
   "cell_type": "markdown",
   "metadata": {},
   "source": [
    "## Income\n",
    "\n",
    "We can explore a different varaible similarly - income. \n",
    "\n",
    "We are given the income in log format. Why might that be? Can you investigate a little, and add normal income to the dataframe?"
   ]
  },
  {
   "cell_type": "code",
   "execution_count": 10,
   "metadata": {},
   "outputs": [
    {
     "data": {
      "text/plain": [
       "count    9.578000e+03\n",
       "mean     6.840203e+04\n",
       "std      6.122753e+04\n",
       "min      1.896000e+03\n",
       "25%      3.850000e+04\n",
       "50%      5.576400e+04\n",
       "75%      8.012100e+04\n",
       "max      2.039784e+06\n",
       "Name: income, dtype: float64"
      ]
     },
     "execution_count": 10,
     "metadata": {},
     "output_type": "execute_result"
    }
   ],
   "source": [
    "#create a new column - income. This should show the regular income, not log transformed. \n",
    "df[\"income\"] = np.exp(df[\"log.annual.inc\"])\n",
    "df[\"income\"].describe()"
   ]
  },
  {
   "cell_type": "markdown",
   "metadata": {},
   "source": [
    "### Exercise #1 - Create a Function\n",
    "\n",
    "Try to make a function that prints all the 6 graphs we made above when provided with data. "
   ]
  },
  {
   "cell_type": "code",
   "execution_count": 66,
   "metadata": {},
   "outputs": [],
   "source": [
    "# Challenge - try to create a function that makes the suite of 6 graphs above.\n",
    "# Note: you can print things in the function, this one doesn't need to return anything. \n",
    "# Note 2: this function shouldn't reference anything outside of its arguments, and imported libraries. \n",
    "#         One of the big things that makes functions useful is that we can use the function in other programs\n",
    "#         and it won't \"need\" anything else to function. Like how we can use np.mean(data) with anyhing in the data part. \n",
    "#np.median()\n",
    "def bigGraph(df_in, columnName):\n",
    "   hist = thinkstats2.Hist(round(df_in[columnName],1))\n",
    "   pmf = thinkstats2.Pmf(df_in[columnName])\n",
    "   cdf = thinkstats2.Cdf(df_in[columnName])\n",
    "   pdf = thinkstats2.EstimatedPdf(df_in[columnName])\n",
    "\n",
    "   thinkplot.PrePlot(num=6,rows=2,cols=3)\n",
    "   thinkplot.SubPlot(1)\n",
    "   thinkplot.Hist(hist)\n",
    "   thinkplot.SubPlot(2)\n",
    "   thinkplot.Pmf(pmf)\n",
    "   thinkplot.SubPlot(3)\n",
    "   thinkplot.Cdf(cdf)\n",
    "   thinkplot.SubPlot(4)\n",
    "   thinkstats2.NormalProbabilityPlot(df_in[columnName])\n",
    "   thinkplot.SubPlot(5)\n",
    "   thinkstats2.NormalProbabilityPlot(np.log(df_in[columnName]))\n",
    "   thinkplot.SubPlot(6)\n",
    "   thinkplot.Pdf(pdf)\n",
    "\n",
    "   thinkplot.Config()\n",
    "   return True"
   ]
  },
  {
   "cell_type": "code",
   "execution_count": 67,
   "metadata": {},
   "outputs": [
    {
     "data": {
      "text/plain": [
       "True"
      ]
     },
     "execution_count": 67,
     "metadata": {},
     "output_type": "execute_result"
    },
    {
     "data": {
      "image/png": "[encoded data removed]",
      "text/plain": [
       "<Figure size 1152x720 with 6 Axes>"
      ]
     },
     "metadata": {
      "needs_background": "light"
     },
     "output_type": "display_data"
    }
   ],
   "source": [
    "# Draw graphs\n",
    "bigGraph(df, \"log.annual.inc\")"
   ]
  },
  {
   "cell_type": "code",
   "execution_count": 46,
   "metadata": {},
   "outputs": [
    {
     "data": {
      "text/plain": [
       "<AxesSubplot:xlabel='income', ylabel='Density'>"
      ]
     },
     "execution_count": 46,
     "metadata": {},
     "output_type": "execute_result"
    },
    {
     "data": {
      "image/png": "[encoded data removed]",
      "text/plain": [
       "<Figure size 1440x360 with 1 Axes>"
      ]
     },
     "metadata": {
      "needs_background": "light"
     },
     "output_type": "display_data"
    }
   ],
   "source": [
    "sns.distplot(df['income'])"
   ]
  },
  {
   "cell_type": "code",
   "execution_count": 40,
   "metadata": {},
   "outputs": [
    {
     "data": {
      "text/plain": [
       "<AxesSubplot:xlabel='log.annual.inc', ylabel='Density'>"
      ]
     },
     "execution_count": 40,
     "metadata": {},
     "output_type": "execute_result"
    },
    {
     "data": {
      "image/png": "[encoded data removed]",
      "text/plain": [
       "<Figure size 1440x360 with 1 Axes>"
      ]
     },
     "metadata": {
      "needs_background": "light"
     },
     "output_type": "display_data"
    }
   ],
   "source": [
    "# Draw graphs\n",
    "sns.distplot(df[\"log.annual.inc\"])"
   ]
  },
  {
   "cell_type": "markdown",
   "metadata": {},
   "source": [
    "### Exercise #2: Establish Tax Rates\n",
    "\n",
    "Try to use the data - break into groups of marginal tax rates:\n",
    "<ul>\n",
    "<li>15% on the first $49,020 of taxable income, plus\n",
    "<li>20.5% on the next $49,020 of taxable income (on the portion of taxable income over 49,020 up to $98,040), plus\n",
    "<li>26% on the next $53,939 of taxable income (on the portion of taxable income over $98,040 up to $151,978), plus\n",
    "<li>29% on the next $64,533 of taxable income (on the portion of taxable income over 151,978 up to $216,511), plus\n",
    "<li>33% of taxable income over $216,511\n",
    "</ul>"
   ]
  },
  {
   "cell_type": "markdown",
   "metadata": {},
   "source": [
    "<b>Generate bins for each tax bracket</b>"
   ]
  },
  {
   "cell_type": "code",
   "execution_count": null,
   "metadata": {},
   "outputs": [],
   "source": []
  },
  {
   "cell_type": "code",
   "execution_count": 13,
   "metadata": {},
   "outputs": [],
   "source": [
    "# Generate bins for each tax bracket\n"
   ]
  },
  {
   "cell_type": "code",
   "execution_count": 14,
   "metadata": {},
   "outputs": [],
   "source": [
    "#Create the 6 graph set of graphs for original log income\n"
   ]
  },
  {
   "cell_type": "markdown",
   "metadata": {},
   "source": [
    "<b>Use the data to estimate the number of people in each tax bracket</b>\n",
    "\n",
    "Try to look through the bins, if you can. See the solution for a hint, if needed. "
   ]
  },
  {
   "cell_type": "code",
   "execution_count": 15,
   "metadata": {},
   "outputs": [],
   "source": [
    "# count numbers in each bracket"
   ]
  },
  {
   "cell_type": "markdown",
   "metadata": {},
   "source": [
    "<b>Use the cdf to estimate the number of people who earn Teacher Money - lowest: 59,357, highest: 101,162</b>"
   ]
  },
  {
   "cell_type": "code",
   "execution_count": 16,
   "metadata": {},
   "outputs": [],
   "source": [
    "# estimate number of people\n"
   ]
  },
  {
   "cell_type": "markdown",
   "metadata": {},
   "source": [
    "<b>Create a PDF showing the distributiion of income. Try both log income, and raw income. </b>"
   ]
  },
  {
   "cell_type": "code",
   "execution_count": 17,
   "metadata": {},
   "outputs": [],
   "source": [
    "# Graph\n"
   ]
  },
  {
   "cell_type": "markdown",
   "metadata": {},
   "source": [
    "## Exercise #2: Tax Function\n",
    "\n",
    "Try this! "
   ]
  },
  {
   "cell_type": "code",
   "execution_count": 18,
   "metadata": {},
   "outputs": [],
   "source": [
    "#Challenge - Create a function that takes an income and returns a tax bill, and marginal tax rate:\n",
    "def muhTaxes(income):\n",
    "    \n",
    "    return taxbill, margRate"
   ]
  },
  {
   "cell_type": "code",
   "execution_count": 19,
   "metadata": {},
   "outputs": [],
   "source": [
    "# When calling that function, you can do something like this to get the results:\n",
    "# tax_bill, marginal_rate = muhTaxes(amount_i_earned)\n",
    "# print(\"Tax bill: \", tax_bill)\n",
    "# print(\"Marginal rate:\", marginal_rate)"
   ]
  },
  {
   "cell_type": "markdown",
   "metadata": {},
   "source": [
    "## So... Why a Log?\n",
    "\n",
    "Think quickly - we have both the log and non-log data (there's just a math operation that differs between them, so we can always translate - or transform - back and forth), why bother with the log? \n",
    "\n",
    "We are ultimately concerned with using our data to draw inference, which means we are introducing some assumptions. Suppose we want to use the data to estimate the distance between the lowest and highest quintiles of income. If we only care about the sample's data, we can just count, no transformation needed. If we are attempting to generalize from our sample to the population (as we will soon), using the normal distribution allows us to use all of the things that are built to deal with normal distributions - in this case slicing segments of the data. Similarly, when we want to do tests to measure things about our data (such as hypothesis tests), many of those tests are created for normal data specifically. \n",
    "\n",
    "In general, we want to make data \"as easy as possible to analyze\", and making data normal (or sometimes transforming it in different ways, like normalization), often makes it easier. So we do it. "
   ]
  }
 ],
 "metadata": {
  "kernelspec": {
   "display_name": "Python 3.9.12 ('base')",
   "language": "python",
   "name": "python3"
  },
  "language_info": {
   "codemirror_mode": {
    "name": "ipython",
    "version": 3
   },
   "file_extension": ".py",
   "mimetype": "text/x-python",
   "name": "python",
   "nbconvert_exporter": "python",
   "pygments_lexer": "ipython3",
   "version": "3.9.12"
  },
  "orig_nbformat": 4,
  "vscode": {
   "interpreter": {
    "hash": "4d5428c2c64b61772a58a6d322ada93ef792a54746f377a0b6cb473db1f3ca36"
   }
  }
 },
 "nbformat": 4,
 "nbformat_minor": 2
}
