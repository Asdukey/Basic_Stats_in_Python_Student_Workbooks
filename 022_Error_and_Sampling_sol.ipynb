{
 "cells": [
  {
   "cell_type": "code",
   "execution_count": null,
   "metadata": {},
   "outputs": [],
   "source": [
    "import thinkplot\n",
    "import thinkstats2\n",
    "import pandas as pd\n",
    "import numpy as np\n",
    "from sklearn.metrics import mean_squared_error\n",
    "import scipy.stats as ss\n",
    "import math\n",
    "import random\n",
    "\n",
    "##Seaborn for fancy plots. \n",
    "import matplotlib.pyplot as plt\n",
    "import seaborn as sns\n",
    "plt.rcParams[\"figure.figsize\"] = (8,8)"
   ]
  },
  {
   "cell_type": "code",
   "execution_count": null,
   "metadata": {},
   "outputs": [],
   "source": [
    "#Calculate RMSE from residuals\n",
    "def rmseFromResiduals(residuals):\n",
    "    SSE = 0\n",
    "    for i in range(len(residuals)):\n",
    "        SSE += (residuals[i]**2)\n",
    "    MSE = SSE/len(residuals)\n",
    "    return math.sqrt(MSE)\n",
    "def rSquared(yvals, residuals):\n",
    "    return (1-(thinkstats2.Var(residuals)/thinkstats2.Var(yvals)))"
   ]
  },
  {
   "cell_type": "markdown",
   "metadata": {},
   "source": [
    "<h1>RMSE and R2 - A Second Look</h1>\n",
    "\n",
    "Previously we calculated the RMSE, our measure of how much we can expect each prediction to be off by. However, the purpose of doing these predictions isn't to analyze the data we already have, it is to make predictions for new data. So when we are faced with brand new, never seen before data, how confident should we be in the accuracy of our models?\n",
    "\n",
    "When we just calculated the RMSE, we calculated the residuals for the data we used to create the model. We should kind of expect that the model we end up with would be pretty good at making predictions of the data that was used to create it!\n",
    "\n",
    "In order to get a more durable metric of error, we really need to test our model with some new data that it hasn't seen before. This will give us a better estimate of what type of accuracy we should expect when we put our model to use making real predictions.\n",
    "\n",
    "How? We will hold out some data when we make the model, then use that saved data as though it were new. Since we know the real answers, we can calculate our error metrics and compare them to the true answers. \n",
    "\n",
    "So, new process:\n",
    "<ul>\n",
    "<li>Split our data into two parts. \n",
    "<li>Use one part to calculate a linear regression. (Train the model)\n",
    "<li>Use the other part as a test - make predictions using the X values.\n",
    "<li>Compare those predictions to the true Y values from the held-out data, use these residuals for accuracy. \n",
    "</ul>\n",
    "<h1>RMSE 和 R2 - 再看一遍</h1>\n",
    "\n",
    "之前我们计算了 RMSE，我们衡量我们可以预期每个预测偏离多少。但是，进行这些预测的目的不是分析我们已有的数据，而是对新数据进行预测。因此，当我们面对全新的、从未见过的数据时，我们应该对模型的准确性有多大信心？\n",
    "\n",
    "当我们刚刚计算 RMSE 时，我们计算了用于创建模型的数据的残差。我们应该期待我们最终得到的模型能够很好地预测用于创建它的数据！\n",
    "\n",
    "为了获得更持久的误差度量，我们确实需要使用一些以前从未见过的新数据来测试我们的模型。这将使我们更好地估计当我们将模型用于进行实际预测时我们应该期望的准确度类型。\n",
    "\n",
    "如何？我们在制作模型时会保留一些数据，然后像新的一样使用保存的数据。由于我们知道真正的答案，我们可以计算我们的错误指标并将它们与真实答案进行比较。\n",
    "\n",
    "所以，新流程：\n",
    "<ul>\n",
    "<li>将我们的数据分成两部分。\n",
    "<li>使用一个部分来计算线性回归。 （训练模型）\n",
    "<li>使用另一部分作为测试 - 使用 X 值进行预测。\n",
    "<li>将这些预测与保留数据中的真实 Y 值进行比较，使用这些残差来确保准确性。\n",
    "</ul>"
   ]
  },
  {
   "cell_type": "code",
   "execution_count": null,
   "metadata": {},
   "outputs": [
    {
     "data": {
      "text/html": [
       "<div>\n",
       "<style scoped>\n",
       "    .dataframe tbody tr th:only-of-type {\n",
       "        vertical-align: middle;\n",
       "    }\n",
       "\n",
       "    .dataframe tbody tr th {\n",
       "        vertical-align: top;\n",
       "    }\n",
       "\n",
       "    .dataframe thead th {\n",
       "        text-align: right;\n",
       "    }\n",
       "</style>\n",
       "<table border=\"1\" class=\"dataframe\">\n",
       "  <thead>\n",
       "    <tr style=\"text-align: right;\">\n",
       "      <th></th>\n",
       "      <th>Gender</th>\n",
       "      <th>Age Range</th>\n",
       "      <th>X</th>\n",
       "      <th>Y</th>\n",
       "    </tr>\n",
       "  </thead>\n",
       "  <tbody>\n",
       "    <tr>\n",
       "      <th>0</th>\n",
       "      <td>1</td>\n",
       "      <td>1</td>\n",
       "      <td>4512</td>\n",
       "      <td>1530</td>\n",
       "    </tr>\n",
       "    <tr>\n",
       "      <th>1</th>\n",
       "      <td>1</td>\n",
       "      <td>1</td>\n",
       "      <td>3738</td>\n",
       "      <td>1297</td>\n",
       "    </tr>\n",
       "    <tr>\n",
       "      <th>2</th>\n",
       "      <td>1</td>\n",
       "      <td>1</td>\n",
       "      <td>4261</td>\n",
       "      <td>1335</td>\n",
       "    </tr>\n",
       "    <tr>\n",
       "      <th>3</th>\n",
       "      <td>1</td>\n",
       "      <td>1</td>\n",
       "      <td>3777</td>\n",
       "      <td>1282</td>\n",
       "    </tr>\n",
       "    <tr>\n",
       "      <th>4</th>\n",
       "      <td>1</td>\n",
       "      <td>1</td>\n",
       "      <td>4177</td>\n",
       "      <td>1590</td>\n",
       "    </tr>\n",
       "  </tbody>\n",
       "</table>\n",
       "</div>"
      ],
      "text/plain": [
       "   Gender  Age Range     X     Y\n",
       "0       1          1  4512  1530\n",
       "1       1          1  3738  1297\n",
       "2       1          1  4261  1335\n",
       "3       1          1  3777  1282\n",
       "4       1          1  4177  1590"
      ]
     },
     "execution_count": 3,
     "metadata": {},
     "output_type": "execute_result"
    }
   ],
   "source": [
    "#Load Data\n",
    "df = pd.read_csv(\"data/brain.csv\")\n",
    "df = df.rename(columns={\"Head Size(cm^3)\":\"X\", \"Brain Weight(grams)\":\"Y\"})\n",
    "x = \"X\"\n",
    "y = \"Y\"\n",
    "df.head()"
   ]
  },
  {
   "cell_type": "markdown",
   "metadata": {},
   "source": [
    "Plot to take a look:"
   ]
  },
  {
   "cell_type": "code",
   "execution_count": null,
   "metadata": {},
   "outputs": [
    {
     "data": {
      "text/plain": [
       "<AxesSubplot:xlabel='X', ylabel='Y'>"
      ]
     },
     "execution_count": 4,
     "metadata": {},
     "output_type": "execute_result"
    },
    {
     "data": {
      "image/png": "[encoded data removed]",
      "text/plain": [
       "<Figure size 576x576 with 1 Axes>"
      ]
     },
     "metadata": {
      "needs_background": "light"
     },
     "output_type": "display_data"
    }
   ],
   "source": [
    "sns.regplot(data=df, x=x, y=y, ci=0)"
   ]
  },
  {
   "cell_type": "markdown",
   "metadata": {},
   "source": [
    "Do the regression and calculate the original RMSE and R2"
   ]
  },
  {
   "cell_type": "code",
   "execution_count": null,
   "metadata": {},
   "outputs": [
    {
     "name": "stdout",
     "output_type": "stream",
     "text": [
      "Y intercept: 325.5734210494426\n",
      "Slope: 0.26342933948939934\n",
      "RMSE 72.1206213783709\n",
      "R2 0.639311719957\n"
     ]
    }
   ],
   "source": [
    "#Regression\n",
    "inter, slope = thinkstats2.LeastSquares(df[x],df[y])\n",
    "res = thinkstats2.Residuals(df[x], df[y], inter, slope)\n",
    "regLine = thinkstats2.FitLine(df[x], inter, slope)\n",
    "print(\"Y intercept:\", inter)\n",
    "print(\"Slope:\", slope)\n",
    "#RMSE/R2\n",
    "print(\"RMSE\", rmseFromResiduals(res))\n",
    "print(\"R2\", rSquared(df[y], res))"
   ]
  },
  {
   "cell_type": "markdown",
   "metadata": {},
   "source": [
    "<h3>We have results, but are they good?</h3>\n",
    "\n",
    "These are our measures of error. However, we're caclulating our model's error based on the data that it 'learned' from. It is kind of like predicting test performance by just giving someone a test to study, then giving it to them again to write. Not really all that portable. \n",
    "\n",
    "A better aproach is to test the predictions from our regression on brand new data, that we didn't use to train it. In other words, we can take one sample of our data to train our model, and another to test it. \n",
    "\n",
    "We will use 70% of the data to train the model, and the remaining 30% to test it. This is a pretty common split. In general, the more data you have, the smaller the percentage you need to test with. Somewhere around two-thirds training and one-third testing is a good starting point in most situations. \n",
    "\n",
    "We can try...."
   ]
  },
  {
   "cell_type": "code",
   "execution_count": null,
   "metadata": {},
   "outputs": [
    {
     "name": "stdout",
     "output_type": "stream",
     "text": [
      "Original Length: 237\n",
      "Train Length: 166\n",
      "Test Length: 71\n"
     ]
    }
   ],
   "source": [
    "#Split the data into two. \n",
    "\n",
    "#Calculate the number of rows for the split\n",
    "totalRows = len(df)\n",
    "splitRatio = .7\n",
    "trainRows = round(totalRows*splitRatio)\n",
    "testRows = totalRows-trainRows\n",
    "\n",
    "#Create split using sample(), which is random\n",
    "train = df.sample(trainRows, replace=False)\n",
    "test = df.drop(train.index)\n",
    "\n",
    "#Results\n",
    "print(\"Original Length:\", len(df))\n",
    "print(\"Train Length:\", len(train))\n",
    "print(\"Test Length:\", len(test))"
   ]
  },
  {
   "cell_type": "markdown",
   "metadata": {},
   "source": [
    "Now we have two separate datasets - we can make a regression with one set, then test it on the other set!\n",
    "\n",
    "The model creation part is the same, except we are using the training subset, not the entirety of the data"
   ]
  },
  {
   "cell_type": "code",
   "execution_count": null,
   "metadata": {},
   "outputs": [
    {
     "name": "stdout",
     "output_type": "stream",
     "text": [
      "Y intercept: 299.2013946683418\n",
      "Slope: 0.26996373020510245\n"
     ]
    }
   ],
   "source": [
    "#Regression\n",
    "interTr, slopeTr = thinkstats2.LeastSquares(train[x],train[y])\n",
    "print(\"Y intercept:\", interTr)\n",
    "print(\"Slope:\", slopeTr)"
   ]
  },
  {
   "cell_type": "markdown",
   "metadata": {},
   "source": [
    "Note the results are somewhat different than the original - that is because we are only using some of the data to generate the regression model. If we rerun that splitting step before, each one will be a little different because the data that we use changes. How much this variation is depends on the dispersion of the data and the total amount of data - more data, more stable values. \n",
    "\n",
    "The testing/error calculation step is different. Now instead of evaluating the accuracy against the original data we used, we want to take our new leftover X values in the testing dataset, generate predictions for their Y values, and compare those predictions to the real Y values. "
   ]
  },
  {
   "cell_type": "code",
   "execution_count": null,
   "metadata": {},
   "outputs": [
    {
     "name": "stdout",
     "output_type": "stream",
     "text": [
      "RMSE 81.18694521914213\n",
      "R2 0.6302081197522122\n"
     ]
    }
   ],
   "source": [
    "#Calculate how far the held our data points are from the predictions to generate residuals\n",
    "resTest = thinkstats2.Residuals(test[x], test[y], interTr, slopeTr)\n",
    "#RMSE/R2\n",
    "print(\"RMSE\", rmseFromResiduals(resTest))\n",
    "print(\"R2\", rSquared(test[y], resTest))"
   ]
  },
  {
   "cell_type": "markdown",
   "metadata": {},
   "source": [
    "<h3>Updated Error Metrics</h3>\n",
    "\n",
    "These results for RMSE and R2 are generated by actually testing the model, with data that is new to it. This is much more realistic to actual, real life use. If we are actually predicting brain size, we are going to be measuring a stream of new skulls, taking that value, and plugging it in to our regression to get a predicted brain size. That's exactly what we did here, but we have those real brain sizes that we can pull out after to calculate the accuracy. \n",
    "\n",
    "<br><br><br>\n",
    "<h2>Repeated Trials</h2>\n",
    "\n",
    "What if we were to repeat this a entire process few times? And tally up the results? \n",
    "\n",
    "We'll also add in proper documentation to this function, since we're fancy."
   ]
  },
  {
   "cell_type": "code",
   "execution_count": null,
   "metadata": {},
   "outputs": [],
   "source": [
    "#Multiple samples and regressions.\n",
    "\n",
    "def repeatedRegression(data, trials=1000, trainSplit=.7, xColName=\"X\", yColName=\"Y\"):\n",
    "    \"\"\"Perform multiple linear regressions and accumulate the results in lists.\n",
    "\n",
    "    data: DataFrame of data\n",
    "    trials: number of test runs to perform\n",
    "    trainSplit: the percentage of data to use for model creation, the rest is held for testing. \n",
    "    xColName: the column name of the X data in the dataframe \"data\". \n",
    "    yColName: the column name of the X data in the dataframe \"data\".\n",
    "\n",
    "    returns: intercepts, slopes, rmses, r2s\n",
    "    \"\"\"\n",
    "    #Store each result in these lists. \n",
    "    intercepts = []\n",
    "    slopes = []\n",
    "    rmses = []\n",
    "    r2s = []\n",
    "\n",
    "    #Calculate the split size metrics\n",
    "    totalRows = len(data)\n",
    "    trainRows = round(totalRows*trainSplit)\n",
    "    testRows = totalRows-trainRows\n",
    "\n",
    "    for i in range(trials):\n",
    "        #Randomly split the data\n",
    "        train = data.sample(trainRows, replace=False)\n",
    "        test = data.drop(train.index)\n",
    "        #Do a Regression\n",
    "        inter, slope = thinkstats2.LeastSquares(train[xColName],train[yColName])\n",
    "        #print(\"Y intercept:\", inter, \"Slope:\", slope)\n",
    "        #Generate Residuals\n",
    "        res = thinkstats2.Residuals(test[xColName], test[yColName], inter, slope)\n",
    "        #RMSE/R2\n",
    "        rmse = rmseFromResiduals(res)\n",
    "        r2 = rSquared(test[yColName], res)\n",
    "        #print(\"RMSE\", rmse, \"R2\", r2)\n",
    "        #Add all the results to the lists \n",
    "        intercepts.append(inter)\n",
    "        slopes.append(slope)\n",
    "        rmses.append(rmse)\n",
    "        r2s.append(r2)\n",
    "        \n",
    "    return intercepts, slopes, rmses, r2s"
   ]
  },
  {
   "cell_type": "code",
   "execution_count": null,
   "metadata": {},
   "outputs": [
    {
     "data": {
      "text/plain": [
       "(325.8953389465443, 0.2633461009038939, 72.65866908214664, 0.630163674091794)"
      ]
     },
     "execution_count": 10,
     "metadata": {},
     "output_type": "execute_result"
    }
   ],
   "source": [
    "#Run it for our data. \n",
    "intercepts, slopes, rmses, r2s = repeatedRegression(df,10000)\n",
    "np.mean(intercepts), np.mean(slopes), np.mean(rmses), np.mean(r2s)"
   ]
  },
  {
   "cell_type": "markdown",
   "metadata": {},
   "source": [
    "Similar to any of the estimation trials that we previously looked at, we just do the predicting over and over, and count up the results. \n",
    "\n",
    "We can plot all of these results to take a look. "
   ]
  },
  {
   "cell_type": "code",
   "execution_count": null,
   "metadata": {},
   "outputs": [
    {
     "data": {
      "image/png": "[encoded data removed]",
      "text/plain": [
       "<Figure size 720x720 with 4 Axes>"
      ]
     },
     "metadata": {
      "needs_background": "light"
     },
     "output_type": "display_data"
    }
   ],
   "source": [
    "#Plot each set of results\n",
    "thinkplot.PrePlot(2,2,2)\n",
    "sns.histplot(intercepts)\n",
    "thinkplot.SubPlot(2)\n",
    "sns.histplot(slopes)\n",
    "thinkplot.SubPlot(3)\n",
    "sns.histplot(rmses)\n",
    "thinkplot.SubPlot(4)\n",
    "sns.histplot(r2s)\n",
    "thinkplot.Config()"
   ]
  },
  {
   "cell_type": "markdown",
   "metadata": {},
   "source": [
    "<h3>Repetitive Results</h3>\n",
    "\n",
    "We end up with a distribution of results for each of our metrics. Like before, these distributions are descriptions of how likely the statistic is to fall at certain values. So we can do things like plot them in a CDF to look for confidence intervals. We can also analyze them to make sense of the regression - the less dispersed these values are, the more reliable our regression is likely to be - we get fewer changes depending on what subset of data we select. \n",
    "\n",
    "This particular dataset is pretty small, so we see some pretty large variation between trials. If we were to only do one split, we might randomly end up with one of the ones that had an RMSE or R2 way on the fringes of what is possible, and we'd not get an accurate assessment of our model's predictive quality. As the amount of data increases, this variation lessens. \n",
    "\n",
    "We can use the function from chapter 10 of the book to plot confidence intervals. "
   ]
  },
  {
   "cell_type": "code",
   "execution_count": null,
   "metadata": {},
   "outputs": [],
   "source": [
    "#Book stuff to plot. \n",
    "def FitLine(xs, inter, slope):\n",
    "    fit_xs = np.sort(xs)\n",
    "    fit_ys = inter + slope * fit_xs\n",
    "    return fit_xs, fit_ys\n",
    "    \n",
    "def PlotConfidenceIntervals(xs, inters, slopes, percent=90, **options):\n",
    "    fys_seq = []\n",
    "    for inter, slope in zip(inters, slopes):\n",
    "        fxs, fys = FitLine(xs, inter, slope)\n",
    "        fys_seq.append(fys)\n",
    "\n",
    "    p = (100 - percent) / 2\n",
    "    percents = p, 100 - p\n",
    "    low, high = thinkstats2.PercentileRows(fys_seq, percents)\n",
    "    thinkplot.FillBetween(fxs, low, high, **options)"
   ]
  },
  {
   "cell_type": "code",
   "execution_count": null,
   "metadata": {},
   "outputs": [
    {
     "data": {
      "image/png": "[encoded data removed]",
      "text/plain": [
       "<Figure size 864x432 with 2 Axes>"
      ]
     },
     "metadata": {
      "needs_background": "light"
     },
     "output_type": "display_data"
    }
   ],
   "source": [
    "#Call PCI with our data. Graph alongside SNS\n",
    "#These should be close, but they may differ slightly. The regplot does its own regression, so it may randomly vary. \n",
    "thinkplot.PrePlot(2,1,2)\n",
    "PlotConfidenceIntervals(df[x], intercepts, slopes)\n",
    "thinkplot.SubPlot(2)\n",
    "sns.regplot(x=df[x], y=df[y], ci=90, scatter=False)\n",
    "thinkplot.Config()"
   ]
  },
  {
   "cell_type": "markdown",
   "metadata": {},
   "source": [
    "<h1>Weighted Resampling</h1>\n",
    "\n",
    "Up until now, we've treated every row of data equally, however, in certain situations, that may not give us what we need. As an example, think about detecting fraud in a credit card transaction. A credit card company has a massive amount of data that they can (and do) use to train machine learning algorithms to look for fraudulent transactions. \n",
    "\n",
    "However, almost all of that data will NOT be fraudulent. There are millions and millions of legitimate transactions and while fraud isn't really rare, it does only happen in a small minority of cases. The problem this can cause when building models is that we might just not have enough examples of the rare thing (fraud) for our algorithm to accurately learn from. A similar thing can happen with medical data - if there are conditions that impact specific subsets of society differently (e.g. sickle cell is more common in black people, people from Northern Europe are more likely to tolerate lactose) then we might not have enough of those examples to generate reliable predictions, especially when sample sizes are limited by cost and when we are slicing our data into segments to build the algorithms. \n",
    "\n",
    "There are a few ways that we can attempt to deal with this, the simplest being to weight the samples - or pull more results from some subsets of data than others. For example, we can purposefully take a greater share of the fraudulent transactions to ensure that we have enough. In a medical example you'd make sure that there was a significant number of each subgroup in the data, to ensure that they aren't 'missed'.\n",
    "\n",
    "<b>But wait, doesn't this mess up everything?</b>\n",
    "\n",
    "In some ways yes, in others no. We aren't using the data here to look at the distribution or similar - the number of frauds/not frauds in the data isn't really something we care about. We are attempting to learn how to predict the outcome (fraud/not) given the input(s) - so we need to ensure that there's enough examples so that we can do so. If fraud makes up .1% of the data, or 50% of the data, that doesn't really impact what we're doing negatively. \n",
    "\n",
    "The only real metric for success is our accuracy in making those predictions, so if we need to distort data to get better predictions, that's fine. \n",
    "\n",
    "<b>This makes more sense in multiple regression, so we'll save it for then</b>"
   ]
  }
 ],
 "metadata": {
  "kernelspec": {
   "display_name": "Python 3.9.12 ('base')",
   "language": "python",
   "name": "python3"
  },
  "language_info": {
   "codemirror_mode": {
    "name": "ipython",
    "version": 3
   },
   "file_extension": ".py",
   "mimetype": "text/x-python",
   "name": "python",
   "nbconvert_exporter": "python",
   "pygments_lexer": "ipython3",
   "version": "3.9.12"
  },
  "orig_nbformat": 4,
  "vscode": {
   "interpreter": {
    "hash": "4d5428c2c64b61772a58a6d322ada93ef792a54746f377a0b6cb473db1f3ca36"
   }
  }
 },
 "nbformat": 4,
 "nbformat_minor": 2
}
