{
 "cells": [
  {
   "cell_type": "code",
   "execution_count": 1,
   "metadata": {},
   "outputs": [],
   "source": [
    "import numpy as np\n",
    "import pandas as pd\n",
    "import seaborn as sns\n",
    "import matplotlib.pyplot as plt\n",
    "import seaborn as sns\n",
    "import thinkstats2\n",
    "import thinkplot\n",
    "import survival\n"
   ]
  },
  {
   "cell_type": "markdown",
   "metadata": {},
   "source": [
    "# Survival Analysis\n",
    "\n",
    "Survival analysis is the examination of how long we expect something to last or continue. For example, how long do we expect someone to live after a certain diagnosis, how long we expect a customer to remain a customer, or how long we expect someone to remain at a job. \n",
    "\n",
    "![Survive](images/survive.gif \"Survive\")\n",
    "\n",
    "Survival analysis is another way we can use our distribution data to make projections, or inferences, about the future. To do our survival analysis we need two key pieces of information:\n",
    "<ul>\n",
    "<li> A measure of time - how long they have lasted. \n",
    "<li> An indication of the \"event\" - whenever the survival thing happens. E.g. death, a customer leaves, a lightbulb fails. \n",
    "</ul>\n",
    "\n",
    "If we have a dataset that shows us how long until an event happens for the records in our sample, we can create a distribution from that data to estimate the time to event, and we can do some manipulations of that data to create some survival specific tools and techniques. A\n",
    "\n",
    "### Type of Analysis\n",
    "\n",
    "We will do some univariate survival analysis, or we will use one variable - the time somemthing lasts. The event varaible is more of an indication that the time something lasts is now over, it isn't really it's own feature. It is possible, though a bit more complex, to do survival analysis with a larger feature set, just like regression/classification. The lifelines package referenced near the bottom of the workbook provides some tools for this, we <i>may</i> get into it during the ML stuff, largely dependent on what we need to cover for your project work. "
   ]
  },
  {
   "cell_type": "markdown",
   "metadata": {},
   "source": [
    "##### Example Data\n",
    "\n",
    "Below, we'll load some data on turnonver. The stag column indicates how long, in months, someone has been employed; the event column indicates if they have left a company. "
   ]
  },
  {
   "cell_type": "code",
   "execution_count": 2,
   "metadata": {},
   "outputs": [
    {
     "data": {
      "text/html": [
       "<div>\n",
       "<style scoped>\n",
       "    .dataframe tbody tr th:only-of-type {\n",
       "        vertical-align: middle;\n",
       "    }\n",
       "\n",
       "    .dataframe tbody tr th {\n",
       "        vertical-align: top;\n",
       "    }\n",
       "\n",
       "    .dataframe thead th {\n",
       "        text-align: right;\n",
       "    }\n",
       "</style>\n",
       "<table border=\"1\" class=\"dataframe\">\n",
       "  <thead>\n",
       "    <tr style=\"text-align: right;\">\n",
       "      <th></th>\n",
       "      <th>stag</th>\n",
       "      <th>event</th>\n",
       "      <th>gender</th>\n",
       "      <th>age</th>\n",
       "      <th>industry</th>\n",
       "      <th>profession</th>\n",
       "      <th>traffic</th>\n",
       "      <th>coach</th>\n",
       "      <th>head_gender</th>\n",
       "      <th>greywage</th>\n",
       "      <th>way</th>\n",
       "      <th>extraversion</th>\n",
       "      <th>independ</th>\n",
       "      <th>selfcontrol</th>\n",
       "      <th>anxiety</th>\n",
       "      <th>novator</th>\n",
       "    </tr>\n",
       "  </thead>\n",
       "  <tbody>\n",
       "    <tr>\n",
       "      <th>0</th>\n",
       "      <td>7.0</td>\n",
       "      <td>1</td>\n",
       "      <td>m</td>\n",
       "      <td>35.0</td>\n",
       "      <td>Banks</td>\n",
       "      <td>HR</td>\n",
       "      <td>rabrecNErab</td>\n",
       "      <td>no</td>\n",
       "      <td>f</td>\n",
       "      <td>white</td>\n",
       "      <td>bus</td>\n",
       "      <td>6.2</td>\n",
       "      <td>4.1</td>\n",
       "      <td>5.7</td>\n",
       "      <td>7.1</td>\n",
       "      <td>8.3</td>\n",
       "    </tr>\n",
       "    <tr>\n",
       "      <th>1</th>\n",
       "      <td>23.0</td>\n",
       "      <td>1</td>\n",
       "      <td>m</td>\n",
       "      <td>33.0</td>\n",
       "      <td>Banks</td>\n",
       "      <td>HR</td>\n",
       "      <td>empjs</td>\n",
       "      <td>no</td>\n",
       "      <td>m</td>\n",
       "      <td>white</td>\n",
       "      <td>bus</td>\n",
       "      <td>6.2</td>\n",
       "      <td>4.1</td>\n",
       "      <td>5.7</td>\n",
       "      <td>7.1</td>\n",
       "      <td>8.3</td>\n",
       "    </tr>\n",
       "    <tr>\n",
       "      <th>2</th>\n",
       "      <td>16.0</td>\n",
       "      <td>1</td>\n",
       "      <td>f</td>\n",
       "      <td>35.0</td>\n",
       "      <td>PowerGeneration</td>\n",
       "      <td>HR</td>\n",
       "      <td>rabrecNErab</td>\n",
       "      <td>no</td>\n",
       "      <td>m</td>\n",
       "      <td>white</td>\n",
       "      <td>bus</td>\n",
       "      <td>6.2</td>\n",
       "      <td>6.2</td>\n",
       "      <td>2.6</td>\n",
       "      <td>4.8</td>\n",
       "      <td>8.3</td>\n",
       "    </tr>\n",
       "    <tr>\n",
       "      <th>3</th>\n",
       "      <td>16.0</td>\n",
       "      <td>1</td>\n",
       "      <td>f</td>\n",
       "      <td>35.0</td>\n",
       "      <td>PowerGeneration</td>\n",
       "      <td>HR</td>\n",
       "      <td>rabrecNErab</td>\n",
       "      <td>no</td>\n",
       "      <td>m</td>\n",
       "      <td>white</td>\n",
       "      <td>bus</td>\n",
       "      <td>5.4</td>\n",
       "      <td>7.6</td>\n",
       "      <td>4.9</td>\n",
       "      <td>2.5</td>\n",
       "      <td>6.7</td>\n",
       "    </tr>\n",
       "    <tr>\n",
       "      <th>4</th>\n",
       "      <td>8.0</td>\n",
       "      <td>1</td>\n",
       "      <td>m</td>\n",
       "      <td>32.0</td>\n",
       "      <td>Retail</td>\n",
       "      <td>Commercial</td>\n",
       "      <td>youjs</td>\n",
       "      <td>yes</td>\n",
       "      <td>f</td>\n",
       "      <td>white</td>\n",
       "      <td>bus</td>\n",
       "      <td>3.0</td>\n",
       "      <td>4.1</td>\n",
       "      <td>8.0</td>\n",
       "      <td>7.1</td>\n",
       "      <td>3.7</td>\n",
       "    </tr>\n",
       "  </tbody>\n",
       "</table>\n",
       "</div>"
      ],
      "text/plain": [
       "   stag  event gender   age         industry  profession      traffic coach  \\\n",
       "0   7.0      1      m  35.0            Banks          HR  rabrecNErab    no   \n",
       "1  23.0      1      m  33.0            Banks          HR        empjs    no   \n",
       "2  16.0      1      f  35.0  PowerGeneration          HR  rabrecNErab    no   \n",
       "3  16.0      1      f  35.0  PowerGeneration          HR  rabrecNErab    no   \n",
       "4   8.0      1      m  32.0           Retail  Commercial        youjs   yes   \n",
       "\n",
       "  head_gender greywage  way  extraversion  independ  selfcontrol  anxiety  \\\n",
       "0           f    white  bus           6.2       4.1          5.7      7.1   \n",
       "1           m    white  bus           6.2       4.1          5.7      7.1   \n",
       "2           m    white  bus           6.2       6.2          2.6      4.8   \n",
       "3           m    white  bus           5.4       7.6          4.9      2.5   \n",
       "4           f    white  bus           3.0       4.1          8.0      7.1   \n",
       "\n",
       "   novator  \n",
       "0      8.3  \n",
       "1      8.3  \n",
       "2      8.3  \n",
       "3      6.7  \n",
       "4      3.7  "
      ]
     },
     "execution_count": 2,
     "metadata": {},
     "output_type": "execute_result"
    }
   ],
   "source": [
    "df = pd.read_csv(\"data/turnover.csv\",encoding = \"ISO-8859-1\")\n",
    "df[\"stag\"] = np.round(df[\"stag\"])\n",
    "df.head()"
   ]
  },
  {
   "cell_type": "markdown",
   "metadata": {},
   "source": [
    "##### Exercise Data\n",
    "\n",
    "We can also load some other data that we can work on for some exercises. This data is on how long someone is a customer of a phone company. \n",
    "\n",
    "\"tenure\" is the duration that they've been a customer.\n",
    "\"Churn\" is if they've left, or if they're still there. "
   ]
  },
  {
   "cell_type": "code",
   "execution_count": 3,
   "metadata": {},
   "outputs": [
    {
     "data": {
      "text/html": [
       "<div>\n",
       "<style scoped>\n",
       "    .dataframe tbody tr th:only-of-type {\n",
       "        vertical-align: middle;\n",
       "    }\n",
       "\n",
       "    .dataframe tbody tr th {\n",
       "        vertical-align: top;\n",
       "    }\n",
       "\n",
       "    .dataframe thead th {\n",
       "        text-align: right;\n",
       "    }\n",
       "</style>\n",
       "<table border=\"1\" class=\"dataframe\">\n",
       "  <thead>\n",
       "    <tr style=\"text-align: right;\">\n",
       "      <th></th>\n",
       "      <th>customerID</th>\n",
       "      <th>gender</th>\n",
       "      <th>SeniorCitizen</th>\n",
       "      <th>Partner</th>\n",
       "      <th>Dependents</th>\n",
       "      <th>tenure</th>\n",
       "      <th>PhoneService</th>\n",
       "      <th>MultipleLines</th>\n",
       "      <th>InternetService</th>\n",
       "      <th>OnlineSecurity</th>\n",
       "      <th>...</th>\n",
       "      <th>DeviceProtection</th>\n",
       "      <th>TechSupport</th>\n",
       "      <th>StreamingTV</th>\n",
       "      <th>StreamingMovies</th>\n",
       "      <th>Contract</th>\n",
       "      <th>PaperlessBilling</th>\n",
       "      <th>PaymentMethod</th>\n",
       "      <th>MonthlyCharges</th>\n",
       "      <th>TotalCharges</th>\n",
       "      <th>Churn</th>\n",
       "    </tr>\n",
       "  </thead>\n",
       "  <tbody>\n",
       "    <tr>\n",
       "      <th>0</th>\n",
       "      <td>7590-VHVEG</td>\n",
       "      <td>Female</td>\n",
       "      <td>0</td>\n",
       "      <td>Yes</td>\n",
       "      <td>No</td>\n",
       "      <td>1</td>\n",
       "      <td>No</td>\n",
       "      <td>No phone service</td>\n",
       "      <td>DSL</td>\n",
       "      <td>No</td>\n",
       "      <td>...</td>\n",
       "      <td>No</td>\n",
       "      <td>No</td>\n",
       "      <td>No</td>\n",
       "      <td>No</td>\n",
       "      <td>Month-to-month</td>\n",
       "      <td>Yes</td>\n",
       "      <td>Electronic check</td>\n",
       "      <td>29.85</td>\n",
       "      <td>29.85</td>\n",
       "      <td>No</td>\n",
       "    </tr>\n",
       "    <tr>\n",
       "      <th>1</th>\n",
       "      <td>5575-GNVDE</td>\n",
       "      <td>Male</td>\n",
       "      <td>0</td>\n",
       "      <td>No</td>\n",
       "      <td>No</td>\n",
       "      <td>34</td>\n",
       "      <td>Yes</td>\n",
       "      <td>No</td>\n",
       "      <td>DSL</td>\n",
       "      <td>Yes</td>\n",
       "      <td>...</td>\n",
       "      <td>Yes</td>\n",
       "      <td>No</td>\n",
       "      <td>No</td>\n",
       "      <td>No</td>\n",
       "      <td>One year</td>\n",
       "      <td>No</td>\n",
       "      <td>Mailed check</td>\n",
       "      <td>56.95</td>\n",
       "      <td>1889.5</td>\n",
       "      <td>No</td>\n",
       "    </tr>\n",
       "    <tr>\n",
       "      <th>2</th>\n",
       "      <td>3668-QPYBK</td>\n",
       "      <td>Male</td>\n",
       "      <td>0</td>\n",
       "      <td>No</td>\n",
       "      <td>No</td>\n",
       "      <td>2</td>\n",
       "      <td>Yes</td>\n",
       "      <td>No</td>\n",
       "      <td>DSL</td>\n",
       "      <td>Yes</td>\n",
       "      <td>...</td>\n",
       "      <td>No</td>\n",
       "      <td>No</td>\n",
       "      <td>No</td>\n",
       "      <td>No</td>\n",
       "      <td>Month-to-month</td>\n",
       "      <td>Yes</td>\n",
       "      <td>Mailed check</td>\n",
       "      <td>53.85</td>\n",
       "      <td>108.15</td>\n",
       "      <td>Yes</td>\n",
       "    </tr>\n",
       "    <tr>\n",
       "      <th>3</th>\n",
       "      <td>7795-CFOCW</td>\n",
       "      <td>Male</td>\n",
       "      <td>0</td>\n",
       "      <td>No</td>\n",
       "      <td>No</td>\n",
       "      <td>45</td>\n",
       "      <td>No</td>\n",
       "      <td>No phone service</td>\n",
       "      <td>DSL</td>\n",
       "      <td>Yes</td>\n",
       "      <td>...</td>\n",
       "      <td>Yes</td>\n",
       "      <td>Yes</td>\n",
       "      <td>No</td>\n",
       "      <td>No</td>\n",
       "      <td>One year</td>\n",
       "      <td>No</td>\n",
       "      <td>Bank transfer (automatic)</td>\n",
       "      <td>42.30</td>\n",
       "      <td>1840.75</td>\n",
       "      <td>No</td>\n",
       "    </tr>\n",
       "    <tr>\n",
       "      <th>4</th>\n",
       "      <td>9237-HQITU</td>\n",
       "      <td>Female</td>\n",
       "      <td>0</td>\n",
       "      <td>No</td>\n",
       "      <td>No</td>\n",
       "      <td>2</td>\n",
       "      <td>Yes</td>\n",
       "      <td>No</td>\n",
       "      <td>Fiber optic</td>\n",
       "      <td>No</td>\n",
       "      <td>...</td>\n",
       "      <td>No</td>\n",
       "      <td>No</td>\n",
       "      <td>No</td>\n",
       "      <td>No</td>\n",
       "      <td>Month-to-month</td>\n",
       "      <td>Yes</td>\n",
       "      <td>Electronic check</td>\n",
       "      <td>70.70</td>\n",
       "      <td>151.65</td>\n",
       "      <td>Yes</td>\n",
       "    </tr>\n",
       "  </tbody>\n",
       "</table>\n",
       "<p>5 rows × 21 columns</p>\n",
       "</div>"
      ],
      "text/plain": [
       "   customerID  gender  SeniorCitizen Partner Dependents  tenure PhoneService  \\\n",
       "0  7590-VHVEG  Female              0     Yes         No       1           No   \n",
       "1  5575-GNVDE    Male              0      No         No      34          Yes   \n",
       "2  3668-QPYBK    Male              0      No         No       2          Yes   \n",
       "3  7795-CFOCW    Male              0      No         No      45           No   \n",
       "4  9237-HQITU  Female              0      No         No       2          Yes   \n",
       "\n",
       "      MultipleLines InternetService OnlineSecurity  ... DeviceProtection  \\\n",
       "0  No phone service             DSL             No  ...               No   \n",
       "1                No             DSL            Yes  ...              Yes   \n",
       "2                No             DSL            Yes  ...               No   \n",
       "3  No phone service             DSL            Yes  ...              Yes   \n",
       "4                No     Fiber optic             No  ...               No   \n",
       "\n",
       "  TechSupport StreamingTV StreamingMovies        Contract PaperlessBilling  \\\n",
       "0          No          No              No  Month-to-month              Yes   \n",
       "1          No          No              No        One year               No   \n",
       "2          No          No              No  Month-to-month              Yes   \n",
       "3         Yes          No              No        One year               No   \n",
       "4          No          No              No  Month-to-month              Yes   \n",
       "\n",
       "               PaymentMethod MonthlyCharges  TotalCharges Churn  \n",
       "0           Electronic check          29.85         29.85    No  \n",
       "1               Mailed check          56.95        1889.5    No  \n",
       "2               Mailed check          53.85        108.15   Yes  \n",
       "3  Bank transfer (automatic)          42.30       1840.75    No  \n",
       "4           Electronic check          70.70        151.65   Yes  \n",
       "\n",
       "[5 rows x 21 columns]"
      ]
     },
     "execution_count": 3,
     "metadata": {},
     "output_type": "execute_result"
    }
   ],
   "source": [
    "d2 = pd.read_csv(\"data/churn.csv\")\n",
    "d2.head()"
   ]
  },
  {
   "cell_type": "markdown",
   "metadata": {},
   "source": [
    "## Survival and CDF\n",
    "\n",
    "The idea of survival should remind us of something we're really comfortable with - the CDF. Recall, the CDF shows us an accumulation of what percentage of all records are less than X value; if that X value is time, the CDF shows us how many things last less than X. So our survival analysis is basically examining a distribution of the time varaible. \n",
    "\n",
    "Survival is the opposite of that, or more accurately, the complement of the CDF of time. The survival is what percentage has lasted that long. Mathmatically, the survival is simple: 1-cdf(x).\n",
    "\n",
    "$ S(x) = 1 - CDF(x) $\n",
    "\n",
    "Visually, we can look at how they interact by graphing the cdf, survival, and both together. "
   ]
  },
  {
   "cell_type": "code",
   "execution_count": 4,
   "metadata": {},
   "outputs": [],
   "source": [
    "import survival\n",
    "def MakeSurvivalFromCdf(cdf, label=''):\n",
    "    \"\"\"Makes a survival function based on a CDF.\n",
    "\n",
    "    cdf: Cdf\n",
    "    \n",
    "    returns: SurvivalFunction\n",
    "    \"\"\"\n",
    "    ts = cdf.xs\n",
    "    ss = 1 - cdf.ps\n",
    "    return survival.SurvivalFunction(ts, ss, label)"
   ]
  },
  {
   "cell_type": "code",
   "execution_count": 5,
   "metadata": {},
   "outputs": [
    {
     "data": {
      "image/png": "[encoded data removed]",
      "text/plain": [
       "<Figure size 864x432 with 3 Axes>"
      ]
     },
     "metadata": {
      "needs_background": "light"
     },
     "output_type": "display_data"
    }
   ],
   "source": [
    "thinkplot.PrePlot(3,1,3)\n",
    "cdf = thinkstats2.Cdf(df[\"stag\"])\n",
    "thinkplot.Cdf(cdf)\n",
    "thinkplot.SubPlot(2)\n",
    "thinkplot.Cdf(cdf, complement=True)\n",
    "thinkplot.SubPlot(3)\n",
    "sf = MakeSurvivalFromCdf(cdf)\n",
    "thinkplot.Plot(sf, label='survival', color=\"red\")\n",
    "thinkplot.Cdf(cdf, color=\"blue\", label=\"CDF\")\n",
    "thinkplot.Config()"
   ]
  },
  {
   "cell_type": "markdown",
   "metadata": {},
   "source": [
    "#### Survival and CDF Results\n",
    "\n",
    "The two functions always sum to 1. Analytically we can also see this in the results of the calculations below.\n",
    "\n",
    "How many employees last less/more than 24 months:"
   ]
  },
  {
   "cell_type": "code",
   "execution_count": 6,
   "metadata": {},
   "outputs": [
    {
     "name": "stdout",
     "output_type": "stream",
     "text": [
      "0.5022143489813995\n",
      "0.4977856510186005\n"
     ]
    }
   ],
   "source": [
    "#Above or below 24 months\n",
    "print(cdf[24])\n",
    "print(sf[24])"
   ]
  },
  {
   "cell_type": "markdown",
   "metadata": {},
   "source": [
    "#### Exercise - Print CDF and Survival for the Churn Data"
   ]
  },
  {
   "cell_type": "code",
   "execution_count": null,
   "metadata": {},
   "outputs": [],
   "source": []
  },
  {
   "cell_type": "code",
   "execution_count": 7,
   "metadata": {},
   "outputs": [],
   "source": [
    "#Calculate above or below 24 months\n"
   ]
  },
  {
   "cell_type": "markdown",
   "metadata": {},
   "source": [
    "## Hazard Function - Non-Cumulative Events\n",
    "\n",
    "The hazard function shows how many things end or \"happen\" at any given time point of t, of all things that made it that far:\n",
    "\n",
    "$ H(t) = \\frac{(S(t) - S(t+1))}{S(t)} $\n",
    "\n",
    "Which is just a simple calculation of the probability of an event happening at time t. Just like the PDF shows the value at any given point, and the CDF shows the cumulative total, the hazard function shows the probability of \"the event\" at any given point, and the survival function shows the cumulative total. The hazard function can also be described as the \"instantaneous likelihood of failure\" - the probability that it dies at that moment. In SAT speak, if you're a trivia nerd (or you're applying to go to college in the US):\n",
    "\n",
    "$$ PDF:CDF :: hazard:survival $$\n",
    "\n",
    "Importantly, the hazard function always gives us results in terms of \"of those remaining\", so if a hazard function tells us that someone has a 5% chance of dropping dead in the 84th week after receiving a drug, that 5% is 5% of the people still alive at week 84, not 5% of all people involved at the start. For example, the hazard function will show: of all employees that lasted 24 months, how many ended their employment in that month. We can draw a line to make the connection a bit more clear on the chart. Our data has the time interval in months, so the value of each point on the chart is \"events in this month\". "
   ]
  },
  {
   "cell_type": "code",
   "execution_count": 8,
   "metadata": {},
   "outputs": [
    {
     "name": "stdout",
     "output_type": "stream",
     "text": [
      "Employees that left in 24th month: 0.05387205387205399\n"
     ]
    },
    {
     "name": "stderr",
     "output_type": "stream",
     "text": [
      "e:\\OneDrive - NAIT\\Data 3450\\Basic_Stats_in_Python_Student_Workbooks\\survival.py:71: FutureWarning: The default dtype for empty Series will be 'object' instead of 'float64' in a future version. Specify a dtype explicitly to silence this warning.\n",
      "  lams = pd.Series(index=self.ts)\n"
     ]
    },
    {
     "data": {
      "image/png": "[encoded data removed]",
      "text/plain": [
       "<Figure size 432x288 with 1 Axes>"
      ]
     },
     "metadata": {
      "needs_background": "light"
     },
     "output_type": "display_data"
    }
   ],
   "source": [
    "hf = sf.MakeHazardFunction(label='hazard')\n",
    "print(\"Employees that left in 24th month:\",hf[24])\n",
    "thinkplot.Plot(hf)\n",
    "thinkplot.axhline(hf[24], color=\"red\")\n",
    "thinkplot.Config(ylim=[0, 0.75], loc='upper left')"
   ]
  },
  {
   "cell_type": "markdown",
   "metadata": {},
   "source": [
    "#### Exercise - Show Hazard Function for Churn"
   ]
  },
  {
   "cell_type": "code",
   "execution_count": null,
   "metadata": {},
   "outputs": [],
   "source": []
  },
  {
   "cell_type": "markdown",
   "metadata": {},
   "source": [
    "## Estimation: Kaplan-Meier\n",
    "\n",
    "In real usage, we generally don't have all data in a nice CDF of our population ready to go, in particular we often want to do this analysis before we have a substantial number of \"events\", or before many of the things have not survived. We can call data such as the still-alive people in a drug trial data that is censored - we don't know the actual true value. We need to make an estimation of the survival and there is a method to do so - Kaplan-Meier Estimation. \n",
    "\n",
    "KM is a commonly used function that we can use to estimate a hazard and survival function from some data. The formula (which we don't need to worry about in detail) is:\n",
    "\n",
    "$ S(t + 1) = S(t) * (1 - d/n) $\n",
    "<ul>\n",
    "<li>Where:\n",
    "    <ul>\n",
    "    <li> d = number of events at time t.\n",
    "    <li> n = total number remaining at time t.\n",
    "    </ul>\n",
    "</ul>\n",
    "\n",
    "The survival functions that we end up with are generally a bit blockier than the nice smooth theoretical ones:\n",
    "\n",
    "![KM](images/km.webp \"KM\")\n",
    "\n",
    "### Censorship\n",
    "\n",
    "One concept that also comes up when looking at survival is the idea of censored data - in short, censored data is data that we don't have \"all\" of. Specifically in survival analysis, censored data is any data for which we do not know the exact event time. There are three types of censored data; right censored, left censored, and interval cesored. Data for which the exact event time is known is referred to as complete data. In general, our concern with censoring will be right censored data, generally due to items where the event hasn't happened yet. For things like a drug trial, if we are tracking how long patients live, we (hopefully) have a bunch where we don't know the true answer, because they are still alive, we jst know they lived \"at least up to this point\". In general, this type of data is common for things that use survival analysis - think about a drug trial, if the drug works, we probably don't want to wait 70 years for everyone involved to die before being able to analyze the data and approve the drug. As well, people will commonly do things like stop working with the people conducting the trial, move away to a different city, etc...\n",
    "\n",
    "![Right Censor](images/right_censor.png \"Right Censor\")\n",
    "\n",
    "For us, we will not be doing extensive survival analysis, so it is good enough to be aware of what censored data is, should it become important for something you may be working on. The KM estimation is able to produce estimations that account for the right censored data that we often get in survival analysis. Exactly how to handle censored data beyond this is generally a domain specific thing, depending on exactly what you're analyzing. \n",
    "\n",
    "#### Using Kaplan-Meier\n",
    "\n",
    "To use the Kaplan-Meier process, we supply a list of all the things that have ended, and all those that haven't, and we'll get back a hazard function. We can then make that hazard function into a survival function, so we have the entire picture. "
   ]
  },
  {
   "cell_type": "code",
   "execution_count": 9,
   "metadata": {},
   "outputs": [],
   "source": [
    "from collections import Counter\n",
    "\n",
    "def EstimateHazardFunction(complete, ongoing, label='', verbose=False):\n",
    "    \"\"\"Estimates the hazard function by Kaplan-Meier.\n",
    "\n",
    "    http://en.wikipedia.org/wiki/Kaplan%E2%80%93Meier_estimator\n",
    "\n",
    "    complete: list of complete lifetimes\n",
    "    ongoing: list of ongoing lifetimes\n",
    "    label: string\n",
    "    verbose: whether to display intermediate results\n",
    "    \"\"\"\n",
    "    if np.sum(np.isnan(complete)):\n",
    "        raise ValueError(\"complete contains NaNs\")\n",
    "    if np.sum(np.isnan(ongoing)):\n",
    "        raise ValueError(\"ongoing contains NaNs\")\n",
    "\n",
    "    hist_complete = Counter(complete)\n",
    "    hist_ongoing = Counter(ongoing)\n",
    "\n",
    "    ts = list(hist_complete | hist_ongoing)\n",
    "    ts.sort()\n",
    "\n",
    "    at_risk = len(complete) + len(ongoing)\n",
    "\n",
    "    lams = pd.Series(index=ts, dtype=\"float64\")\n",
    "    for t in ts:\n",
    "        ended = hist_complete[t]\n",
    "        censored = hist_ongoing[t]\n",
    "\n",
    "        lams[t] = ended / at_risk\n",
    "        if verbose:\n",
    "            print(t, at_risk, ended, censored, lams[t])\n",
    "        at_risk -= ended + censored\n",
    "\n",
    "    return survival.HazardFunction(lams, label=label)"
   ]
  },
  {
   "cell_type": "markdown",
   "metadata": {},
   "source": [
    "Plot the hazard function using the KM estimation:"
   ]
  },
  {
   "cell_type": "code",
   "execution_count": 10,
   "metadata": {},
   "outputs": [
    {
     "data": {
      "image/png": "[encoded data removed]",
      "text/plain": [
       "<Figure size 432x288 with 1 Axes>"
      ]
     },
     "metadata": {
      "needs_background": "light"
     },
     "output_type": "display_data"
    }
   ],
   "source": [
    "complete = df[df.event==1].stag\n",
    "ongoing = df[df.event==0].stag\n",
    "\n",
    "hf = EstimateHazardFunction(complete, ongoing)\n",
    "thinkplot.Plot(hf)\n",
    "thinkplot.Config(xlabel='Time',\n",
    "                 ylabel='Hazard')"
   ]
  },
  {
   "cell_type": "markdown",
   "metadata": {},
   "source": [
    "From the hazard function, we can then call a function to get the survival function. The idea is pretty simple - we know what fraction will end at any given point, as we have a survival function, so a tally of what is left is pretty conceptually simple. "
   ]
  },
  {
   "cell_type": "code",
   "execution_count": 11,
   "metadata": {},
   "outputs": [
    {
     "data": {
      "image/png": "[encoded data removed]",
      "text/plain": [
       "<Figure size 432x288 with 1 Axes>"
      ]
     },
     "metadata": {
      "needs_background": "light"
     },
     "output_type": "display_data"
    }
   ],
   "source": [
    "sf = hf.MakeSurvival()\n",
    "thinkplot.Plot(sf)\n",
    "thinkplot.Config(xlabel='Time',\n",
    "                 ylabel='Prob Employed',\n",
    "                 ylim=[0, 1])"
   ]
  },
  {
   "cell_type": "markdown",
   "metadata": {},
   "source": [
    "#### Exercise - Generate Hazard and Survival Function with KM for Churn\n",
    "\n",
    "Hint: May need to look at the values in the Churn column for some data prep. "
   ]
  },
  {
   "cell_type": "code",
   "execution_count": null,
   "metadata": {},
   "outputs": [],
   "source": []
  },
  {
   "cell_type": "markdown",
   "metadata": {},
   "source": [
    "### Survival Confidence Intervals\n",
    "\n",
    "We can use the survival and hazard information to make confidence intervals. The types of error that we are used to also exist in survival. We can use multiple samples to generate confidence just like we did with estimation - the confidence calculations are the same, we run many (e.g. 100) trials of resampling the data, generating a new survival function, and then calculating the range that the middle X% of those iterations. "
   ]
  },
  {
   "cell_type": "code",
   "execution_count": 12,
   "metadata": {},
   "outputs": [],
   "source": [
    "def EstimateJobSurvival(resp, columnName=\"stag\", splitName=\"event\"):\n",
    "    \"\"\"Estimates the survival curve.\n",
    "\n",
    "    resp: DataFrame of respondents\n",
    "\n",
    "    returns: pair of HazardFunction, SurvivalFunction\n",
    "    \"\"\"\n",
    "    # NOTE: Filling missing values would be better than dropping them.\n",
    "    tmp1 = resp[resp[splitName] == 1]\n",
    "    tmp2 = resp[resp[splitName] == 0]\n",
    "    complete = tmp1[columnName]\n",
    "    ongoing = tmp2[columnName]\n",
    "\n",
    "    hf = EstimateHazardFunction(complete, ongoing)\n",
    "    sf = hf.MakeSurvival()\n",
    "\n",
    "    return hf, sf"
   ]
  },
  {
   "cell_type": "code",
   "execution_count": 13,
   "metadata": {},
   "outputs": [],
   "source": [
    "def ResampleSurvival(resp, iters=101, columnName=\"stag\", color=\"blue\", ciHi=95, ciLo=5, splitName=\"event\"):\n",
    "    \"\"\"Resamples respondents and estimates the survival function.\n",
    "\n",
    "    resp: DataFrame of respondents\n",
    "    iters: number of resamples\n",
    "    \"\"\" \n",
    "    _, sf = EstimateJobSurvival(resp, columnName, splitName)\n",
    "    thinkplot.Plot(sf, color=color)\n",
    "\n",
    "    low, high = resp[columnName].min(), resp[columnName].max()\n",
    "    ts = np.arange(low, high)\n",
    "\n",
    "    ss_seq = []\n",
    "    for _ in range(iters):\n",
    "        #sample = thinkstats2.ResampleRowsWeighted(resp, column=\"age\")\n",
    "        sample = thinkstats2.ResampleRows(resp)\n",
    "        _, sf = EstimateJobSurvival(sample, columnName, splitName)\n",
    "        ss_seq.append(sf.Probs(ts))\n",
    "\n",
    "    low, high = thinkstats2.PercentileRows(ss_seq, [ciLo, ciHi])\n",
    "    thinkplot.FillBetween(ts, low, high, color='gray', label=str(ciHi-ciLo))"
   ]
  },
  {
   "cell_type": "markdown",
   "metadata": {},
   "source": [
    "#### Show Projection With Confidence Intervals\n",
    "\n",
    "As we can probably anticipate, the confidence intervals show less and less \"confidence\" as we progress in time - we are less certain about our projection, the farther out that projection is."
   ]
  },
  {
   "cell_type": "code",
   "execution_count": 14,
   "metadata": {},
   "outputs": [
    {
     "data": {
      "image/png": "[encoded data removed]",
      "text/plain": [
       "<Figure size 432x288 with 1 Axes>"
      ]
     },
     "metadata": {
      "needs_background": "light"
     },
     "output_type": "display_data"
    }
   ],
   "source": [
    "ResampleSurvival(df)\n",
    "thinkplot.Config(xlabel='Months',\n",
    "                 ylabel='Prob employed',\n",
    "                 ylim=[0, 1],\n",
    "                 loc='upper right')"
   ]
  },
  {
   "cell_type": "markdown",
   "metadata": {},
   "source": [
    "#### Exercise - Draw Churn with CI of 95%\n",
    "\n",
    "Hint: Check function arguments above. "
   ]
  },
  {
   "cell_type": "code",
   "execution_count": null,
   "metadata": {},
   "outputs": [],
   "source": []
  },
  {
   "cell_type": "markdown",
   "metadata": {},
   "source": [
    "## Survival Comparison - Cohort Differences\n",
    "\n",
    "One way that survival analysis is useful is to compare groups - most notably in scenarios such as \"how long does a treated group live vs a non-treated group?\". \n",
    "\n",
    "We can split the data in any way we want, such as by sex, then compare those two groups to each other to see if they are different. We can also do a hypothesis test between the two cohorts, just as we are used to. This is normally done using a test that is called the log-rank test, which is in a library called lifelines that provides a bunch of survival analysis stuff. The test itself is internally a Chi2 test. We won't get into the details of lifelines here, but the log-rank test is effectively like a t-test that we did with distributions, it will generate a p-value that we can use to determine if we have evidence to say the cohorts are different from each other. There is an example of this test at the bottom of this workbook using the lifelines package, it is pretty simple to use and understand with our experience with hypothesis tests. "
   ]
  },
  {
   "cell_type": "code",
   "execution_count": 15,
   "metadata": {},
   "outputs": [],
   "source": [
    "male = df[df[\"gender\"]==\"m\"]\n",
    "fem = df[df[\"gender\"]==\"f\"]"
   ]
  },
  {
   "cell_type": "code",
   "execution_count": 16,
   "metadata": {},
   "outputs": [
    {
     "data": {
      "image/png": "[encoded data removed]",
      "text/plain": [
       "<Figure size 432x288 with 1 Axes>"
      ]
     },
     "metadata": {
      "needs_background": "light"
     },
     "output_type": "display_data"
    }
   ],
   "source": [
    "ResampleSurvival(male)\n",
    "thinkplot.Config(xlabel='Months',\n",
    "                 ylabel='Prob employed',\n",
    "                 ylim=[0, 1],\n",
    "                 loc='upper right')\n",
    "\n",
    "ResampleSurvival(fem, color=\"red\")\n",
    "thinkplot.Config(xlabel='Months',\n",
    "                 ylabel='Prob employed',\n",
    "                 ylim=[0, 1],\n",
    "                 loc='upper right',\n",
    "                 color=\"red\")"
   ]
  },
  {
   "cell_type": "markdown",
   "metadata": {},
   "source": [
    "Looks like males are a tiny bit more likely to be employed at most points. "
   ]
  },
  {
   "cell_type": "markdown",
   "metadata": {},
   "source": [
    "<h4>Exercise - Split Churn Data by InternetService</h4>"
   ]
  },
  {
   "cell_type": "code",
   "execution_count": null,
   "metadata": {},
   "outputs": [],
   "source": []
  },
  {
   "cell_type": "markdown",
   "metadata": {},
   "source": [
    "## Estimating Remaining Lifetime\n",
    "\n",
    "We can also estimate how long we can expect someone to \"continue\" - usually to not die, or continue to be a customer. This calculation is relatively simple, especially for events where we have a definitive cap, such as a pregnancy. If situations where we have right censored data, we can also change the average calculation to median, which will be more durable to outliers - in this case outliers of \"infinity\". \n",
    "\n",
    "We can also kind of describe this in a Bayesian way - our expectation of how long someone will survive is \"updated\" by our knowledge of how long they have lasted. "
   ]
  },
  {
   "cell_type": "code",
   "execution_count": 17,
   "metadata": {},
   "outputs": [],
   "source": [
    "def makePmf(data, filler=None):\n",
    "    \"\"\"Makes a PMF of lifetimes.\n",
    "\n",
    "    filler: value to replace missing values\n",
    "\n",
    "    returns: Pmf\n",
    "    \"\"\"\n",
    "    cdf = thinkstats2.Cdf(data.ts, 1-data.ss)\n",
    "    pmf = thinkstats2.Pmf()\n",
    "    for val, prob in cdf.Items():\n",
    "        pmf.Set(val, prob)\n",
    "\n",
    "    cutoff = cdf.ps[-1]\n",
    "    if filler is not None:\n",
    "        pmf[filler] = 1-cutoff\n",
    "\n",
    "    return pmf\n",
    "\n",
    "def remLifetime(data, filler=None, func=thinkstats2.Pmf.Mean):\n",
    "    \"\"\"Computes remaining lifetime as a function of age.\n",
    "    func: function from conditional Pmf to expected liftime\n",
    "    returns: Series that maps from age to remaining lifetime\n",
    "    \"\"\"\n",
    "    pmf = makePmf(data,filler=filler)\n",
    "    d = {}\n",
    "    for t in sorted(pmf.Values())[:-2]:\n",
    "        pmf[t] = 0\n",
    "        pmf.Normalize()\n",
    "        d[t] = func(pmf) - t\n",
    "\n",
    "    return pd.Series(d)\n"
   ]
  },
  {
   "cell_type": "markdown",
   "metadata": {},
   "source": [
    "#### Estimate Remaining Lifetime at a Point\n",
    "\n",
    "How long can we expect someone who has worked here for 24 months to continue?"
   ]
  },
  {
   "cell_type": "code",
   "execution_count": 18,
   "metadata": {},
   "outputs": [
    {
     "name": "stdout",
     "output_type": "stream",
     "text": [
      "Mean Remaining Emp. at 24 Months: 62.92631643227119\n"
     ]
    },
    {
     "data": {
      "image/png": "[encoded data removed]",
      "text/plain": [
       "<Figure size 432x288 with 1 Axes>"
      ]
     },
     "metadata": {
      "needs_background": "light"
     },
     "output_type": "display_data"
    }
   ],
   "source": [
    "rem_life1 = remLifetime(sf)\n",
    "print(\"Mean Remaining Emp. at 24 Months:\",rem_life1[24])\n",
    "thinkplot.Plot(rem_life1)\n",
    "thinkplot.Config(title='Remaining Employment Length',\n",
    "                 xlabel='Months',\n",
    "                 ylabel='Mean Remaining')"
   ]
  },
  {
   "cell_type": "markdown",
   "metadata": {},
   "source": [
    "We can also specify a function to replace the mean, for example we can ask for the median expected value. This is also an example of something that you may not have seen much before, a function which can take another function as an argument. Some functions are written like this to offer a large amount of flexibility, in this one we can provide any aggregation function (mean, median, mean/2+median/2, some random calculation, etc...) and it will just apply whatever we give it. For a simple interactive look at the idea of how this works, use the \"aggregate\" function in Excel - the aggregate function does aggregation, and you provide which type you want - sum, average, median, count, etc..."
   ]
  },
  {
   "cell_type": "code",
   "execution_count": 19,
   "metadata": {},
   "outputs": [
    {
     "name": "stdout",
     "output_type": "stream",
     "text": [
      "Median Remaining Emp. at 24 Months: 56.0\n"
     ]
    },
    {
     "data": {
      "image/png": "[encoded data removed]",
      "text/plain": [
       "<Figure size 432x288 with 1 Axes>"
      ]
     },
     "metadata": {
      "needs_background": "light"
     },
     "output_type": "display_data"
    }
   ],
   "source": [
    "#Provide a generic function via the lambda\n",
    "#Whatever calculation is here will replace the mean for the remaining life\n",
    "func = lambda x: x.Percentile(50)\n",
    "rem_life2 = remLifetime(sf, filler=np.inf, func=func)\n",
    "\n",
    "print(\"Median Remaining Emp. at 24 Months:\",rem_life2[24])\n",
    "thinkplot.Plot(rem_life2)\n",
    "thinkplot.Config(title='Month until Quit',\n",
    "                 xlabel='Months',\n",
    "                 ylabel='Median remaining months')"
   ]
  },
  {
   "cell_type": "markdown",
   "metadata": {},
   "source": [
    "We can also do the exact same thing with a premade median function, this is the thinkstats equivalent to the mean calculation that is used in the original function. "
   ]
  },
  {
   "cell_type": "code",
   "execution_count": 20,
   "metadata": {},
   "outputs": [
    {
     "name": "stdout",
     "output_type": "stream",
     "text": [
      "Median Remaining Emp. at 24 Months: 56.0\n"
     ]
    },
    {
     "data": {
      "image/png": "[encoded data removed]",
      "text/plain": [
       "<Figure size 432x288 with 1 Axes>"
      ]
     },
     "metadata": {
      "needs_background": "light"
     },
     "output_type": "display_data"
    }
   ],
   "source": [
    "#Provide a generic function via the lambda\n",
    "#Whatever calculation is here will replace the mean for the remaining life\n",
    "func2 = thinkstats2.Pmf.Median\n",
    "rem_life3 = remLifetime(sf, filler=np.inf, func=func2)\n",
    "\n",
    "print(\"Median Remaining Emp. at 24 Months:\",rem_life3[24])\n",
    "thinkplot.Plot(rem_life2)\n",
    "thinkplot.Config(title='Month until Quit',\n",
    "                 xlabel='Months',\n",
    "                 ylabel='Median remaining months')"
   ]
  },
  {
   "cell_type": "markdown",
   "metadata": {},
   "source": [
    "#### Exercise - How Long Should we Expect a Customer of 24 Months to Stay?"
   ]
  },
  {
   "cell_type": "code",
   "execution_count": null,
   "metadata": {},
   "outputs": [],
   "source": []
  },
  {
   "cell_type": "markdown",
   "metadata": {},
   "source": [
    "## Real Life Survival and Library Functions\n",
    "\n",
    "We created a bunch of functions here based on the book's stuff to see the details of how survival works. \n",
    "\n",
    "In general, we can use library functions for this:\n",
    "<ul>\n",
    "<li>The package \"lifelines\" has most of this stuff in ready to go formats. (You'd likely need to install it)\n",
    "<li>When using a scipy distribution, there is normally a survival function built in, normally sf.\n",
    "</ul>\n",
    "\n",
    "The lifelines library has all of this stuff and more, relating to survival analysis, in a pretty easy to understand and use package. Lifelines also includes a wrapper that allows lifelines functions to be used in a sklearn style way - it basically provides an interface to the lifelines code that matches the sklearn format, so we can incorporate this into our other code without too much adaptation: https://lifelines.readthedocs.io/en/latest/Compatibility%20with%20scikit-learn.html. In the \"guides\" folder of this repository there is a long document with examples of almost all the common things that we may want to do, the filename is \"survival.pdf\" and it is taken from: https://pub.towardsai.net/survival-analysis-with-python-tutorial-how-what-when-and-why-19a5cfb3c312 "
   ]
  },
  {
   "cell_type": "markdown",
   "metadata": {},
   "source": [
    "### Log-Rank Comparison Example\n",
    "\n",
    "The first block below will install lifelines, assuming pip is installed, uncomment and run it if you need to install the package. This isn't strictly mandatory at this point, we may or may not need this going forward, depending on timing. Some things to note as we setup this test, we need to provide two lists for each of the two groups - one holding the time, and one the event. We also are required to provide samples from each cohort that are equally sized - I just used a sample to manually do this. "
   ]
  },
  {
   "cell_type": "code",
   "execution_count": 21,
   "metadata": {},
   "outputs": [
    {
     "ename": "ModuleNotFoundError",
     "evalue": "No module named 'lifelines'",
     "output_type": "error",
     "traceback": [
      "\u001b[1;31m---------------------------------------------------------------------------\u001b[0m",
      "\u001b[1;31mModuleNotFoundError\u001b[0m                       Traceback (most recent call last)",
      "\u001b[1;32me:\\OneDrive - NAIT\\Data 3450\\Basic_Stats_in_Python_Student_Workbooks\\029_Survival.ipynb Cell 52\u001b[0m in \u001b[0;36m<cell line: 2>\u001b[1;34m()\u001b[0m\n\u001b[0;32m      <a href='vscode-notebook-cell:/e%3A/OneDrive%20-%20NAIT/Data%203450/Basic_Stats_in_Python_Student_Workbooks/029_Survival.ipynb#Y102sZmlsZQ%3D%3D?line=0'>1</a>\u001b[0m \u001b[39m#!pip install lifelines\u001b[39;00m\n\u001b[1;32m----> <a href='vscode-notebook-cell:/e%3A/OneDrive%20-%20NAIT/Data%203450/Basic_Stats_in_Python_Student_Workbooks/029_Survival.ipynb#Y102sZmlsZQ%3D%3D?line=1'>2</a>\u001b[0m \u001b[39mfrom\u001b[39;00m \u001b[39mlifelines\u001b[39;00m\u001b[39m.\u001b[39;00m\u001b[39mstatistics\u001b[39;00m \u001b[39mimport\u001b[39;00m logrank_test, pairwise_logrank_test\n",
      "\u001b[1;31mModuleNotFoundError\u001b[0m: No module named 'lifelines'"
     ]
    }
   ],
   "source": [
    "#!pip install lifelines\n",
    "from lifelines.statistics import logrank_test, pairwise_logrank_test"
   ]
  },
  {
   "cell_type": "code",
   "execution_count": null,
   "metadata": {},
   "outputs": [],
   "source": [
    "T1 = male[\"stag\"]\n",
    "E1 = male[\"event\"]\n",
    "T2 = fem[\"stag\"].sample(276)\n",
    "E2 = fem[\"event\"].sample(276)"
   ]
  },
  {
   "cell_type": "markdown",
   "metadata": {},
   "source": [
    "##### Run Test\n",
    "\n",
    "The test produces a p-value and a test statistic, as we are used to. Here the p-value tells us the probability of seeing a difference of \"test statistic\" through random varaiation between our two samples. If the p-value is small, there is a high likelihood the two groups are different in their survival expectations; if the p-value is large, the two samples appears to be the same in terms of survival. "
   ]
  },
  {
   "cell_type": "code",
   "execution_count": null,
   "metadata": {},
   "outputs": [],
   "source": [
    "results = logrank_test(T1,T2,event_observed_A=E1, event_observed_B=E2)\n",
    "results.print_summary()"
   ]
  },
  {
   "cell_type": "markdown",
   "metadata": {},
   "source": [
    "#### Log Rank Results\n",
    "\n",
    "The p-value here is large, so we think that the Male and Female spit in this data does not have a significant difference in survival.  "
   ]
  },
  {
   "cell_type": "markdown",
   "metadata": {},
   "source": [
    "#### Pairwise Log-Rank with Helper\n",
    "\n",
    "Below we have a slightly different implementation of the log rank test.\n",
    "\n",
    "The helper function here is setup with the prefilled time and event columns, the argumnent is what can be used to split the data. The pairwise part means that this test functions kind of like an ANOVA test (with differences below), it will take all of the groups and test they are different. So the combination of these two things gives us a function where we can provide any categorical value, and get a test to see if the survival expectations are different for different groups. \n",
    "\n",
    "The difference between this and an ANOVA mentioned above is that this one will actually loop through and generate a bunch of tests to specify which groups differ from each other, that's the pairwise bit - it generates all the pairings and tests them. If we provide a categorical varaible with many possible values, we get a large table of results, where each subgroup was tested against each other group. If something (try \"industry\") that has many classes is entered we'll get a really long set of results. "
   ]
  },
  {
   "cell_type": "code",
   "execution_count": null,
   "metadata": {},
   "outputs": [],
   "source": [
    "# Helper function for printing out Log-rank test results\n",
    "def print_logrank(col):\n",
    "  log_rank = pairwise_logrank_test(df['stag'], df[col], df['event'])\n",
    "  return log_rank.summary"
   ]
  },
  {
   "cell_type": "code",
   "execution_count": null,
   "metadata": {},
   "outputs": [],
   "source": [
    "print_logrank(\"way\")"
   ]
  }
 ],
 "metadata": {
  "kernelspec": {
   "display_name": "Python 3.9.12 ('base')",
   "language": "python",
   "name": "python3"
  },
  "language_info": {
   "codemirror_mode": {
    "name": "ipython",
    "version": 3
   },
   "file_extension": ".py",
   "mimetype": "text/x-python",
   "name": "python",
   "nbconvert_exporter": "python",
   "pygments_lexer": "ipython3",
   "version": "3.9.12"
  },
  "orig_nbformat": 4,
  "vscode": {
   "interpreter": {
    "hash": "4d5428c2c64b61772a58a6d322ada93ef792a54746f377a0b6cb473db1f3ca36"
   }
  }
 },
 "nbformat": 4,
 "nbformat_minor": 2
}
